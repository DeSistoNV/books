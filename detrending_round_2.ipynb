{
 "cells": [
  {
   "cell_type": "code",
   "execution_count": 1,
   "metadata": {
    "collapsed": false
   },
   "outputs": [
    {
     "name": "stdout",
     "output_type": "stream",
     "text": [
      "Populating the interactive namespace from numpy and matplotlib\n"
     ]
    },
    {
     "name": "stderr",
     "output_type": "stream",
     "text": [
      "Vendor:  Continuum Analytics, Inc.\n",
      "Package: mkl\n",
      "Message: trial mode expires in 23 days\n",
      "Vendor:  Continuum Analytics, Inc.\n",
      "Package: mkl\n",
      "Message: trial mode expires in 23 days\n"
     ]
    }
   ],
   "source": [
    "%pylab inline\n",
    "import pandas as pd\n",
    "import nibabel as nib\n",
    "import hrf_estimation as he\n",
    "from scipy import stats # for z-scoring\n",
    "plt.style.use('ggplot')\n"
   ]
  },
  {
   "cell_type": "code",
   "execution_count": 2,
   "metadata": {
    "collapsed": false
   },
   "outputs": [
    {
     "data": {
      "text/html": [
       "<div style=\"max-height:1000px;max-width:1500px;overflow:auto;\">\n",
       "<table border=\"1\" class=\"dataframe\">\n",
       "  <thead>\n",
       "    <tr style=\"text-align: right;\">\n",
       "      <th></th>\n",
       "      <th>runID</th>\n",
       "      <th>subject</th>\n",
       "      <th>runType</th>\n",
       "      <th>TR</th>\n",
       "      <th>matrix_x</th>\n",
       "      <th>matrix_y</th>\n",
       "      <th>n_slices</th>\n",
       "      <th>nvols</th>\n",
       "      <th>frame_file_path</th>\n",
       "      <th>frame_file</th>\n",
       "      <th>working_vol</th>\n",
       "      <th>brain_mask</th>\n",
       "    </tr>\n",
       "  </thead>\n",
       "  <tbody>\n",
       "    <tr>\n",
       "      <th>5</th>\n",
       "      <td>142</td>\n",
       "      <td>CO</td>\n",
       "      <td>trn</td>\n",
       "      <td>2</td>\n",
       "      <td>108</td>\n",
       "      <td>108</td>\n",
       "      <td>39</td>\n",
       "      <td>210</td>\n",
       "      <td>/musc.repo/mri/7T.cmrr/Presentation/Oct2011</td>\n",
       "      <td>trn001.txt</td>\n",
       "      <td>/mnt/initial_em9k_pipe/CO_nofnirt/lotusHill.7T...</td>\n",
       "      <td>/mnt/initial_em9k_pipe/CO_nofnirt//lotusHill.7...</td>\n",
       "    </tr>\n",
       "    <tr>\n",
       "      <th>6</th>\n",
       "      <td>143</td>\n",
       "      <td>CO</td>\n",
       "      <td>trn</td>\n",
       "      <td>2</td>\n",
       "      <td>108</td>\n",
       "      <td>108</td>\n",
       "      <td>39</td>\n",
       "      <td>210</td>\n",
       "      <td>/musc.repo/mri/7T.cmrr/Presentation/Oct2011</td>\n",
       "      <td>trn002.txt</td>\n",
       "      <td>/mnt/initial_em9k_pipe/CO_nofnirt/lotusHill.7T...</td>\n",
       "      <td>/mnt/initial_em9k_pipe/CO_nofnirt//lotusHill.7...</td>\n",
       "    </tr>\n",
       "    <tr>\n",
       "      <th>7</th>\n",
       "      <td>144</td>\n",
       "      <td>CO</td>\n",
       "      <td>trn</td>\n",
       "      <td>2</td>\n",
       "      <td>108</td>\n",
       "      <td>108</td>\n",
       "      <td>39</td>\n",
       "      <td>210</td>\n",
       "      <td>/musc.repo/mri/7T.cmrr/Presentation/Oct2011</td>\n",
       "      <td>trn003.txt</td>\n",
       "      <td>/mnt/initial_em9k_pipe/CO_nofnirt/lotusHill.7T...</td>\n",
       "      <td>/mnt/initial_em9k_pipe/CO_nofnirt//lotusHill.7...</td>\n",
       "    </tr>\n",
       "    <tr>\n",
       "      <th>8</th>\n",
       "      <td>145</td>\n",
       "      <td>CO</td>\n",
       "      <td>val</td>\n",
       "      <td>2</td>\n",
       "      <td>108</td>\n",
       "      <td>108</td>\n",
       "      <td>39</td>\n",
       "      <td>210</td>\n",
       "      <td>/musc.repo/mri/7T.cmrr/Presentation/Oct2011</td>\n",
       "      <td>val001.txt</td>\n",
       "      <td>/mnt/initial_em9k_pipe/CO_nofnirt/lotusHill.7T...</td>\n",
       "      <td>/mnt/initial_em9k_pipe/CO_nofnirt//lotusHill.7...</td>\n",
       "    </tr>\n",
       "    <tr>\n",
       "      <th>9</th>\n",
       "      <td>146</td>\n",
       "      <td>CO</td>\n",
       "      <td>imgVal</td>\n",
       "      <td>2</td>\n",
       "      <td>108</td>\n",
       "      <td>108</td>\n",
       "      <td>39</td>\n",
       "      <td>232</td>\n",
       "      <td>/musc.repo/mri/7T.cmrr/Presentation/Oct2011</td>\n",
       "      <td>imgVal.txt</td>\n",
       "      <td>/mnt/initial_em9k_pipe/CO_nofnirt/lotusHill.7T...</td>\n",
       "      <td>/mnt/initial_em9k_pipe/CO_nofnirt//lotusHill.7...</td>\n",
       "    </tr>\n",
       "    <tr>\n",
       "      <th>10</th>\n",
       "      <td>147</td>\n",
       "      <td>CO</td>\n",
       "      <td>img</td>\n",
       "      <td>2</td>\n",
       "      <td>108</td>\n",
       "      <td>108</td>\n",
       "      <td>39</td>\n",
       "      <td>232</td>\n",
       "      <td>/musc.repo/mri/7T.cmrr/Presentation/Oct2011</td>\n",
       "      <td>img.txt</td>\n",
       "      <td>/mnt/initial_em9k_pipe/CO_nofnirt/lotusHill.7T...</td>\n",
       "      <td>/mnt/initial_em9k_pipe/CO_nofnirt//lotusHill.7...</td>\n",
       "    </tr>\n",
       "    <tr>\n",
       "      <th>11</th>\n",
       "      <td>148</td>\n",
       "      <td>CO</td>\n",
       "      <td>val</td>\n",
       "      <td>2</td>\n",
       "      <td>108</td>\n",
       "      <td>108</td>\n",
       "      <td>39</td>\n",
       "      <td>210</td>\n",
       "      <td>/musc.repo/mri/7T.cmrr/Presentation/Oct2011</td>\n",
       "      <td>val002.txt</td>\n",
       "      <td>/mnt/initial_em9k_pipe/CO_nofnirt/lotusHill.7T...</td>\n",
       "      <td>/mnt/initial_em9k_pipe/CO_nofnirt//lotusHill.7...</td>\n",
       "    </tr>\n",
       "    <tr>\n",
       "      <th>12</th>\n",
       "      <td>149</td>\n",
       "      <td>CO</td>\n",
       "      <td>trn</td>\n",
       "      <td>2</td>\n",
       "      <td>108</td>\n",
       "      <td>108</td>\n",
       "      <td>39</td>\n",
       "      <td>210</td>\n",
       "      <td>/musc.repo/mri/7T.cmrr/Presentation/Oct2011</td>\n",
       "      <td>trn004.txt</td>\n",
       "      <td>/mnt/initial_em9k_pipe/CO_nofnirt/lotusHill.7T...</td>\n",
       "      <td>/mnt/initial_em9k_pipe/CO_nofnirt//lotusHill.7...</td>\n",
       "    </tr>\n",
       "    <tr>\n",
       "      <th>13</th>\n",
       "      <td>150</td>\n",
       "      <td>CO</td>\n",
       "      <td>trn</td>\n",
       "      <td>2</td>\n",
       "      <td>108</td>\n",
       "      <td>108</td>\n",
       "      <td>39</td>\n",
       "      <td>210</td>\n",
       "      <td>/musc.repo/mri/7T.cmrr/Presentation/Oct2011</td>\n",
       "      <td>trn005.txt</td>\n",
       "      <td>/mnt/initial_em9k_pipe/CO_nofnirt/lotusHill.7T...</td>\n",
       "      <td>/mnt/initial_em9k_pipe/CO_nofnirt//lotusHill.7...</td>\n",
       "    </tr>\n",
       "    <tr>\n",
       "      <th>14</th>\n",
       "      <td>151</td>\n",
       "      <td>CO</td>\n",
       "      <td>trn</td>\n",
       "      <td>2</td>\n",
       "      <td>108</td>\n",
       "      <td>108</td>\n",
       "      <td>39</td>\n",
       "      <td>210</td>\n",
       "      <td>/musc.repo/mri/7T.cmrr/Presentation/Oct2011</td>\n",
       "      <td>trn006.txt</td>\n",
       "      <td>/mnt/initial_em9k_pipe/CO_nofnirt/lotusHill.7T...</td>\n",
       "      <td>/mnt/initial_em9k_pipe/CO_nofnirt//lotusHill.7...</td>\n",
       "    </tr>\n",
       "    <tr>\n",
       "      <th>15</th>\n",
       "      <td>152</td>\n",
       "      <td>CO</td>\n",
       "      <td>val</td>\n",
       "      <td>2</td>\n",
       "      <td>108</td>\n",
       "      <td>108</td>\n",
       "      <td>39</td>\n",
       "      <td>210</td>\n",
       "      <td>/musc.repo/mri/7T.cmrr/Presentation/Oct2011</td>\n",
       "      <td>val003.txt</td>\n",
       "      <td>/mnt/initial_em9k_pipe/CO_nofnirt/lotusHill.7T...</td>\n",
       "      <td>/mnt/initial_em9k_pipe/CO_nofnirt//lotusHill.7...</td>\n",
       "    </tr>\n",
       "  </tbody>\n",
       "</table>\n",
       "</div>"
      ],
      "text/plain": [
       "    runID subject runType  TR  matrix_x  matrix_y  n_slices  nvols  \\\n",
       "5     142      CO     trn   2       108       108        39    210   \n",
       "6     143      CO     trn   2       108       108        39    210   \n",
       "7     144      CO     trn   2       108       108        39    210   \n",
       "8     145      CO     val   2       108       108        39    210   \n",
       "9     146      CO  imgVal   2       108       108        39    232   \n",
       "10    147      CO     img   2       108       108        39    232   \n",
       "11    148      CO     val   2       108       108        39    210   \n",
       "12    149      CO     trn   2       108       108        39    210   \n",
       "13    150      CO     trn   2       108       108        39    210   \n",
       "14    151      CO     trn   2       108       108        39    210   \n",
       "15    152      CO     val   2       108       108        39    210   \n",
       "\n",
       "                                frame_file_path  frame_file  \\\n",
       "5   /musc.repo/mri/7T.cmrr/Presentation/Oct2011  trn001.txt   \n",
       "6   /musc.repo/mri/7T.cmrr/Presentation/Oct2011  trn002.txt   \n",
       "7   /musc.repo/mri/7T.cmrr/Presentation/Oct2011  trn003.txt   \n",
       "8   /musc.repo/mri/7T.cmrr/Presentation/Oct2011  val001.txt   \n",
       "9   /musc.repo/mri/7T.cmrr/Presentation/Oct2011  imgVal.txt   \n",
       "10  /musc.repo/mri/7T.cmrr/Presentation/Oct2011     img.txt   \n",
       "11  /musc.repo/mri/7T.cmrr/Presentation/Oct2011  val002.txt   \n",
       "12  /musc.repo/mri/7T.cmrr/Presentation/Oct2011  trn004.txt   \n",
       "13  /musc.repo/mri/7T.cmrr/Presentation/Oct2011  trn005.txt   \n",
       "14  /musc.repo/mri/7T.cmrr/Presentation/Oct2011  trn006.txt   \n",
       "15  /musc.repo/mri/7T.cmrr/Presentation/Oct2011  val003.txt   \n",
       "\n",
       "                                          working_vol  \\\n",
       "5   /mnt/initial_em9k_pipe/CO_nofnirt/lotusHill.7T...   \n",
       "6   /mnt/initial_em9k_pipe/CO_nofnirt/lotusHill.7T...   \n",
       "7   /mnt/initial_em9k_pipe/CO_nofnirt/lotusHill.7T...   \n",
       "8   /mnt/initial_em9k_pipe/CO_nofnirt/lotusHill.7T...   \n",
       "9   /mnt/initial_em9k_pipe/CO_nofnirt/lotusHill.7T...   \n",
       "10  /mnt/initial_em9k_pipe/CO_nofnirt/lotusHill.7T...   \n",
       "11  /mnt/initial_em9k_pipe/CO_nofnirt/lotusHill.7T...   \n",
       "12  /mnt/initial_em9k_pipe/CO_nofnirt/lotusHill.7T...   \n",
       "13  /mnt/initial_em9k_pipe/CO_nofnirt/lotusHill.7T...   \n",
       "14  /mnt/initial_em9k_pipe/CO_nofnirt/lotusHill.7T...   \n",
       "15  /mnt/initial_em9k_pipe/CO_nofnirt/lotusHill.7T...   \n",
       "\n",
       "                                           brain_mask  \n",
       "5   /mnt/initial_em9k_pipe/CO_nofnirt//lotusHill.7...  \n",
       "6   /mnt/initial_em9k_pipe/CO_nofnirt//lotusHill.7...  \n",
       "7   /mnt/initial_em9k_pipe/CO_nofnirt//lotusHill.7...  \n",
       "8   /mnt/initial_em9k_pipe/CO_nofnirt//lotusHill.7...  \n",
       "9   /mnt/initial_em9k_pipe/CO_nofnirt//lotusHill.7...  \n",
       "10  /mnt/initial_em9k_pipe/CO_nofnirt//lotusHill.7...  \n",
       "11  /mnt/initial_em9k_pipe/CO_nofnirt//lotusHill.7...  \n",
       "12  /mnt/initial_em9k_pipe/CO_nofnirt//lotusHill.7...  \n",
       "13  /mnt/initial_em9k_pipe/CO_nofnirt//lotusHill.7...  \n",
       "14  /mnt/initial_em9k_pipe/CO_nofnirt//lotusHill.7...  \n",
       "15  /mnt/initial_em9k_pipe/CO_nofnirt//lotusHill.7...  "
      ]
     },
     "execution_count": 2,
     "metadata": {},
     "output_type": "execute_result"
    }
   ],
   "source": [
    "# load DataBase\n",
    "df = pd.read_csv('/mnt/em9k.csv')\n",
    "df = df[df.subject == 'CO'][['runID','subject', 'runType', 'TR', 'matrix_x',\n",
    "                                                    'matrix_y', 'n_slices', 'nvols','frame_file_path','frame_file',\n",
    "                                                    'working_vol','brain_mask']]\n",
    "df"
   ]
  },
  {
   "cell_type": "markdown",
   "metadata": {},
   "source": [
    "# Apply Brain Mask"
   ]
  },
  {
   "cell_type": "code",
   "execution_count": 3,
   "metadata": {
    "collapsed": false
   },
   "outputs": [],
   "source": [
    "base_dir = '/mnt/pickles/CO/redo_7-11-15/masked_data/'\n",
    "def mask_row(row):\n",
    "    volume = nib.load(row['working_vol']).get_data()\n",
    "    mask = nib.load(row['brain_mask']).get_data()\n",
    "    volume = volume.reshape((prod(volume.shape[:3]),-1))\n",
    "    mask = mask.reshape((prod(mask.shape[:3]),-1))\n",
    "    masked_vol = np.array([volume[i] for i in xrange(len(volume)) if mask[i] == 1])\n",
    "    print '{} voxels selected on mask'.format(masked_vol.shape)\n",
    "    sf = '{}{}{}'.format(base_dir,row['subject'],str(row['runID']))\n",
    "    np.save(sf,masked_vol)\n",
    "    return sf + '.npy'"
   ]
  },
  {
   "cell_type": "code",
   "execution_count": 4,
   "metadata": {
    "collapsed": false
   },
   "outputs": [
    {
     "name": "stdout",
     "output_type": "stream",
     "text": [
      "(122136, 210) voxels selected on mask\n",
      "(122136, 210) voxels selected on mask\n",
      "(122136, 210) voxels selected on mask\n",
      "(122136, 210) voxels selected on mask\n",
      "(122136, 232) voxels selected on mask\n",
      "(122136, 232) voxels selected on mask\n",
      "(122136, 210) voxels selected on mask\n",
      "(122136, 210) voxels selected on mask\n",
      "(122136, 210) voxels selected on mask\n",
      "(122136, 210) voxels selected on mask\n",
      "(122136, 210) voxels selected on mask\n"
     ]
    }
   ],
   "source": [
    "df['masked_data'] = [mask_row(row) for i, row in df.iterrows()]"
   ]
  },
  {
   "cell_type": "code",
   "execution_count": 5,
   "metadata": {
    "collapsed": false
   },
   "outputs": [
    {
     "data": {
      "text/plain": [
       "5     /mnt/pickles/CO/redo_7-11-15/masked_data/CO142...\n",
       "6     /mnt/pickles/CO/redo_7-11-15/masked_data/CO143...\n",
       "7     /mnt/pickles/CO/redo_7-11-15/masked_data/CO144...\n",
       "8     /mnt/pickles/CO/redo_7-11-15/masked_data/CO145...\n",
       "9     /mnt/pickles/CO/redo_7-11-15/masked_data/CO146...\n",
       "10    /mnt/pickles/CO/redo_7-11-15/masked_data/CO147...\n",
       "11    /mnt/pickles/CO/redo_7-11-15/masked_data/CO148...\n",
       "12    /mnt/pickles/CO/redo_7-11-15/masked_data/CO149...\n",
       "13    /mnt/pickles/CO/redo_7-11-15/masked_data/CO150...\n",
       "14    /mnt/pickles/CO/redo_7-11-15/masked_data/CO151...\n",
       "15    /mnt/pickles/CO/redo_7-11-15/masked_data/CO152...\n",
       "Name: masked_data, dtype: object"
      ]
     },
     "execution_count": 5,
     "metadata": {},
     "output_type": "execute_result"
    }
   ],
   "source": [
    "df['masked_data']"
   ]
  },
  {
   "cell_type": "markdown",
   "metadata": {},
   "source": [
    "# Detrending`"
   ]
  },
  {
   "cell_type": "code",
   "execution_count": 6,
   "metadata": {
    "collapsed": false
   },
   "outputs": [],
   "source": [
    "filter_params = (41,3)\n",
    "\n",
    "base_dir = '/mnt/pickles/CO/redo_7-11-15/detrended_data_savgol_{}-{}/'.format(*filter_params)\n",
    "\n",
    "import os\n",
    "if not os.path.isdir(base_dir):\n",
    "    os.makedirs(base_dir)\n",
    "def detrend_row(row):\n",
    "    volume = numpy.load(row['masked_data'])\n",
    "    voxels = he.savitzky_golay.savgol_filter(volume, filter_params[0], filter_params[1], axis=0)\n",
    "    for v in xrange(voxels.shape[0]):\n",
    "        voxels[v] = stats.mstats.zscore(voxels[v])\n",
    "    sf = '{}{}{}'.format(base_dir,row['subject'],str(row['runID']))\n",
    "    np.save(sf,voxels)\n",
    "    print voxels.shape\n",
    "    return sf + '.npy'\n",
    "\n"
   ]
  },
  {
   "cell_type": "code",
   "execution_count": 7,
   "metadata": {
    "collapsed": false
   },
   "outputs": [
    {
     "name": "stdout",
     "output_type": "stream",
     "text": [
      "(122136, 210)\n",
      "(122136, 210)\n",
      "(122136, 210)\n",
      "(122136, 210)\n",
      "(122136, 232)\n",
      "(122136, 232)\n",
      "(122136, 210)\n",
      "(122136, 210)\n",
      "(122136, 210)\n",
      "(122136, 210)\n",
      "(122136, 210)\n"
     ]
    }
   ],
   "source": [
    "df['detrended_data'] = [detrend_row(row) for i, row in df.iterrows()]"
   ]
  },
  {
   "cell_type": "code",
   "execution_count": null,
   "metadata": {
    "collapsed": false
   },
   "outputs": [],
   "source": [
    "detrended_ts = []\n",
    "for i in df.index:\n",
    "    detrended_ts.append(load(df.ix[i,'detrended_data']))\n"
   ]
  },
  {
   "cell_type": "code",
   "execution_count": null,
   "metadata": {
    "collapsed": false
   },
   "outputs": [],
   "source": [
    "\n",
    "\n",
    "original_ts = []\n",
    "for i in df.index:\n",
    "    m = load(df.ix[i,'masked_data'])\n",
    "    for v in xrange(m.shape[0]):\n",
    "        m[v] = stats.mstats.zscore(m[v])\n",
    "    original_ts.append(m)\n",
    "    "
   ]
  },
  {
   "cell_type": "code",
   "execution_count": null,
   "metadata": {
    "collapsed": false
   },
   "outputs": [],
   "source": [
    "x_lines = []\n",
    "cc = 0\n",
    "for i in df.index:\n",
    "    x_lines.append(cc+df.ix[i,'nvols'])\n",
    "    cc += df.ix[i,'nvols']\n",
    "print x_lines"
   ]
  },
  {
   "cell_type": "code",
   "execution_count": null,
   "metadata": {
    "collapsed": false
   },
   "outputs": [],
   "source": [
    "print detrended_ts[1].shape\n",
    "detrended_merged = hstack(detrended_ts)"
   ]
  },
  {
   "cell_type": "code",
   "execution_count": null,
   "metadata": {
    "collapsed": true
   },
   "outputs": [],
   "source": [
    "orig_merged = hstack(original_ts)"
   ]
  },
  {
   "cell_type": "code",
   "execution_count": null,
   "metadata": {
    "collapsed": false
   },
   "outputs": [],
   "source": [
    "orig_merged.shape\n",
    "from pylab import rcParams\n",
    "plots = 25\n"
   ]
  },
  {
   "cell_type": "code",
   "execution_count": null,
   "metadata": {
    "collapsed": true
   },
   "outputs": [],
   "source": [
    "rcParams['figure.figsize'] = 45,10 * plots\n",
    "r = random.randint(0,detrended_merged.shape[0],plots)\n",
    "print r\n",
    "for rrr,i in enumerate(r):\n",
    "    ax = plt.subplot(plots,1,rrr+1)\n",
    "    ax.set_title('voxel #{}'.format(i))\n",
    "    ax.title.set_fontsize(30)\n",
    "    plt.plot(orig_merged[i,:],'r',label='original (z-scored)')\n",
    "    plt.plot(detrended_merged[i,:],'g',label='detrended & z-scored',alpha=1)\n",
    "    for x_line in x_lines:\n",
    "        plt.axvline(x_line,color='black',lw=2,alpha=.5)\n",
    "    plt.legend(fontsize=20)\n",
    "plt.show()"
   ]
  },
  {
   "cell_type": "code",
   "execution_count": null,
   "metadata": {
    "collapsed": false,
    "scrolled": false
   },
   "outputs": [],
   "source": [
    "rcParams['figure.figsize'] = 45,10 * plots\n",
    "r = random.randint(0,detrended_merged.shape[0],plots)\n",
    "print r\n",
    "for rrr,i in enumerate(r):\n",
    "    ax = plt.subplot(plots,1,rrr+1)\n",
    "    ax.set_title('voxel #{}'.format(i))\n",
    "    ax.title.set_fontsize(30)\n",
    "    plt.plot(orig_merged[i,:],'r',label='original (z-scored)')\n",
    "    plt.plot(detrended_merged[i,:],'g',label='detrended & z-scored',alpha=1)\n",
    "    for x_line in x_lines:\n",
    "        plt.axvline(x_line,color='black',lw=2,alpha=.5)\n",
    "    plt.legend(fontsize=20)\n",
    "plt.show()"
   ]
  },
  {
   "cell_type": "code",
   "execution_count": null,
   "metadata": {
    "collapsed": false,
    "scrolled": false
   },
   "outputs": [],
   "source": [
    "rcParams['figure.figsize'] = 45,10 * plots\n",
    "r = random.randint(0,detrended_merged.shape[0],plots)\n",
    "print r\n",
    "for rrr,i in enumerate(r):\n",
    "    ax = plt.subplot(plots,1,rrr+1)\n",
    "    ax.set_title('voxel #{}'.format(i))\n",
    "    ax.title.set_fontsize(30)\n",
    "    plt.plot(orig_merged[i,:],'r',label='original (z-scored)')\n",
    "    plt.plot(detrended_merged[i,:],'g',label='detrended & z-scored',alpha=1)\n",
    "    for x_line in x_lines:\n",
    "        plt.axvline(x_line,color='black',lw=2,alpha=.5)\n",
    "    plt.legend(fontsize=20)\n",
    "plt.show()"
   ]
  },
  {
   "cell_type": "code",
   "execution_count": null,
   "metadata": {
    "collapsed": false,
    "scrolled": false
   },
   "outputs": [],
   "source": [
    "rcParams['figure.figsize'] = 45,10 * plots\n",
    "r = random.randint(0,detrended_merged.shape[0],plots)\n",
    "print r\n",
    "for rrr,i in enumerate(r):\n",
    "    ax = plt.subplot(plots,1,rrr+1)\n",
    "    ax.set_title('voxel #{}'.format(i))\n",
    "    ax.title.set_fontsize(30)\n",
    "    plt.plot(orig_merged[i,:],'r',label='original (z-scored)')\n",
    "    plt.plot(detrended_merged[i,:],'g',label='detrended & z-scored',alpha=1)\n",
    "    for x_line in x_lines:\n",
    "        plt.axvline(x_line,color='black',lw=2,alpha=.5)\n",
    "    plt.legend(fontsize=20)\n",
    "plt.show()"
   ]
  },
  {
   "cell_type": "code",
   "execution_count": null,
   "metadata": {
    "collapsed": false
   },
   "outputs": [],
   "source": [
    "df.to_csv(base_dir+'masked_and_detrended_7_11_15.csv')\n",
    "print 'DataFrame saved to {}'.format(base_dir+'masked_and_detrended_7_11_15')"
   ]
  },
  {
   "cell_type": "code",
   "execution_count": null,
   "metadata": {
    "collapsed": true
   },
   "outputs": [],
   "source": []
  }
 ],
 "metadata": {
  "kernelspec": {
   "display_name": "Python 2",
   "language": "python",
   "name": "python2"
  },
  "language_info": {
   "codemirror_mode": {
    "name": "ipython",
    "version": 2
   },
   "file_extension": ".py",
   "mimetype": "text/x-python",
   "name": "python",
   "nbconvert_exporter": "python",
   "pygments_lexer": "ipython2",
   "version": "2.7.10"
  }
 },
 "nbformat": 4,
 "nbformat_minor": 0
}
