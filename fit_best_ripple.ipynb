{
 "cells": [
  {
   "cell_type": "markdown",
   "metadata": {},
   "source": [
    "##Fit a prf model with frequency selectivity and an output nonlinearity.\n",
    "July.2015 high-resolution CMRR data for the \"match_nonmatch\" project.\n",
    "\n",
    "Project notes: https://drive.google.com/open?id=1m1rmotkmtgwY99Q_k71YDorUPq_DkCSJ0LselY13_v4"
   ]
  },
  {
   "cell_type": "code",
   "execution_count": 1,
   "metadata": {
    "collapsed": false
   },
   "outputs": [
    {
     "name": "stdout",
     "output_type": "stream",
     "text": [
      "Populating the interactive namespace from numpy and matplotlib\n"
     ]
    }
   ],
   "source": [
    "%pylab inline\n",
    "import hrf_fitting.src.preprocessing as preproc\n",
    "import pandas as pd\n",
    "import numpy as np\n",
    "import matplotlib.pyplot as plt\n",
    "import scipy.ndimage\n",
    "\n",
    "from PIL import Image\n",
    "from hrf_fitting.src.features import construct_kernel_set\n",
    "from scipy.signal import convolve2d\n",
    "from os import path\n",
    "from sklearn import linear_model"
   ]
  },
  {
   "cell_type": "markdown",
   "metadata": {
    "collapsed": true
   },
   "source": [
    "###Select data"
   ]
  },
  {
   "cell_type": "markdown",
   "metadata": {},
   "source": [
    "select a subject and corresponding database"
   ]
  },
  {
   "cell_type": "code",
   "execution_count": 2,
   "metadata": {
    "collapsed": true
   },
   "outputs": [],
   "source": [
    "subject = 's1055'\n",
    "db =  '/media/tnaselar/Data/July_2015_preproc/'+subject+'/PS/aligned_db.csv'"
   ]
  },
  {
   "cell_type": "markdown",
   "metadata": {},
   "source": [
    "import into pandas dataframe and view it"
   ]
  },
  {
   "cell_type": "code",
   "execution_count": 3,
   "metadata": {
    "collapsed": false,
    "scrolled": true
   },
   "outputs": [
    {
     "data": {
      "text/html": [
       "<div style=\"max-height:1000px;max-width:1500px;overflow:auto;\">\n",
       "<table border=\"1\" class=\"dataframe\">\n",
       "  <thead>\n",
       "    <tr style=\"text-align: right;\">\n",
       "      <th></th>\n",
       "      <th>runID</th>\n",
       "      <th>date</th>\n",
       "      <th>subject</th>\n",
       "      <th>experiment</th>\n",
       "      <th>working_vol</th>\n",
       "      <th>brain_mask</th>\n",
       "      <th>sessionID</th>\n",
       "      <th>runType</th>\n",
       "      <th>design matrix</th>\n",
       "      <th>frame_file</th>\n",
       "      <th>...</th>\n",
       "      <th>vox_x</th>\n",
       "      <th>vox_y</th>\n",
       "      <th>vox_z</th>\n",
       "      <th>run_code_path</th>\n",
       "      <th>run_code_file</th>\n",
       "      <th>design_matrix_path</th>\n",
       "      <th>frameFilePath</th>\n",
       "      <th>picPath</th>\n",
       "      <th>siemensRef</th>\n",
       "      <th>padVol</th>\n",
       "    </tr>\n",
       "  </thead>\n",
       "  <tbody>\n",
       "    <tr>\n",
       "      <th>17</th>\n",
       "      <td> 17</td>\n",
       "      <td> 29/07/2015</td>\n",
       "      <td> s1055</td>\n",
       "      <td> match_nonmatch</td>\n",
       "      <td> /media/tnaselar/Data/July_2015_preproc/s1055/P...</td>\n",
       "      <td> /media/tnaselar/Data/July_2015_preproc/s1055/P...</td>\n",
       "      <td> 1</td>\n",
       "      <td> wedge</td>\n",
       "      <td> none</td>\n",
       "      <td>     wedge_frame_file.txt</td>\n",
       "      <td>...</td>\n",
       "      <td> 0.8</td>\n",
       "      <td> 0.8</td>\n",
       "      <td> 0.8</td>\n",
       "      <td> /musc.repo/mri/7T.cmrr/July.2015/PS/presentation</td>\n",
       "      <td> run_experiment.py</td>\n",
       "      <td> none</td>\n",
       "      <td> /musc.repo/mri/7T.cmrr/July.2015/PS/presentati...</td>\n",
       "      <td> /musc.repo/mri/7T.cmrr/July.2015/PS/presentati...</td>\n",
       "      <td> 0</td>\n",
       "      <td> 0</td>\n",
       "    </tr>\n",
       "    <tr>\n",
       "      <th>18</th>\n",
       "      <td> 18</td>\n",
       "      <td> 29/07/2015</td>\n",
       "      <td> s1055</td>\n",
       "      <td> match_nonmatch</td>\n",
       "      <td> /media/tnaselar/Data/July_2015_preproc/s1055/P...</td>\n",
       "      <td> /media/tnaselar/Data/July_2015_preproc/s1055/P...</td>\n",
       "      <td> 1</td>\n",
       "      <td>   bar</td>\n",
       "      <td> none</td>\n",
       "      <td>       bar_frame_file.txt</td>\n",
       "      <td>...</td>\n",
       "      <td> 0.8</td>\n",
       "      <td> 0.8</td>\n",
       "      <td> 0.8</td>\n",
       "      <td> /musc.repo/mri/7T.cmrr/July.2015/PS/presentation</td>\n",
       "      <td> run_experiment.py</td>\n",
       "      <td> none</td>\n",
       "      <td> /musc.repo/mri/7T.cmrr/July.2015/PS/presentati...</td>\n",
       "      <td> /musc.repo/mri/7T.cmrr/July.2015/PS/presentati...</td>\n",
       "      <td> 0</td>\n",
       "      <td> 0</td>\n",
       "    </tr>\n",
       "    <tr>\n",
       "      <th>19</th>\n",
       "      <td> 19</td>\n",
       "      <td> 04/08/2015</td>\n",
       "      <td> s1055</td>\n",
       "      <td> match_nonmatch</td>\n",
       "      <td> /media/tnaselar/Data/July_2015_preproc/s1055/P...</td>\n",
       "      <td> /media/tnaselar/Data/July_2015_preproc/s1055/P...</td>\n",
       "      <td> 1</td>\n",
       "      <td>  freq</td>\n",
       "      <td> none</td>\n",
       "      <td> spatial_freq_run_002.txt</td>\n",
       "      <td>...</td>\n",
       "      <td> 0.8</td>\n",
       "      <td> 0.8</td>\n",
       "      <td> 0.8</td>\n",
       "      <td> /musc.repo/mri/7T.cmrr/July.2015/PS/presentation</td>\n",
       "      <td> run_experiment.py</td>\n",
       "      <td> none</td>\n",
       "      <td> /musc.repo/mri/7T.cmrr/July.2015/PS/presentati...</td>\n",
       "      <td> /musc.repo/mri/7T.cmrr/July.2015/PS/presentati...</td>\n",
       "      <td> 0</td>\n",
       "      <td> 0</td>\n",
       "    </tr>\n",
       "    <tr>\n",
       "      <th>20</th>\n",
       "      <td> 20</td>\n",
       "      <td> 04/08/2015</td>\n",
       "      <td> s1055</td>\n",
       "      <td> match_nonmatch</td>\n",
       "      <td> /media/tnaselar/Data/July_2015_preproc/s1055/P...</td>\n",
       "      <td> /media/tnaselar/Data/July_2015_preproc/s1055/P...</td>\n",
       "      <td> 1</td>\n",
       "      <td> wedge</td>\n",
       "      <td> none</td>\n",
       "      <td>     wedge_frame_file.txt</td>\n",
       "      <td>...</td>\n",
       "      <td> 0.8</td>\n",
       "      <td> 0.8</td>\n",
       "      <td> 0.8</td>\n",
       "      <td> /musc.repo/mri/7T.cmrr/July.2015/PS/presentation</td>\n",
       "      <td> run_experiment.py</td>\n",
       "      <td> none</td>\n",
       "      <td> /musc.repo/mri/7T.cmrr/July.2015/PS/presentati...</td>\n",
       "      <td> /musc.repo/mri/7T.cmrr/July.2015/PS/presentati...</td>\n",
       "      <td> 0</td>\n",
       "      <td> 0</td>\n",
       "    </tr>\n",
       "    <tr>\n",
       "      <th>21</th>\n",
       "      <td> 21</td>\n",
       "      <td> 04/08/2015</td>\n",
       "      <td> s1055</td>\n",
       "      <td> match_nonmatch</td>\n",
       "      <td> /media/tnaselar/Data/July_2015_preproc/s1055/P...</td>\n",
       "      <td> /media/tnaselar/Data/July_2015_preproc/s1055/P...</td>\n",
       "      <td> 1</td>\n",
       "      <td> wedge</td>\n",
       "      <td> none</td>\n",
       "      <td>     wedge_frame_file.txt</td>\n",
       "      <td>...</td>\n",
       "      <td> 0.8</td>\n",
       "      <td> 0.8</td>\n",
       "      <td> 0.8</td>\n",
       "      <td> /musc.repo/mri/7T.cmrr/July.2015/PS/presentation</td>\n",
       "      <td> run_experiment.py</td>\n",
       "      <td> none</td>\n",
       "      <td> /musc.repo/mri/7T.cmrr/July.2015/PS/presentati...</td>\n",
       "      <td> /musc.repo/mri/7T.cmrr/July.2015/PS/presentati...</td>\n",
       "      <td> 0</td>\n",
       "      <td> 0</td>\n",
       "    </tr>\n",
       "    <tr>\n",
       "      <th>22</th>\n",
       "      <td> 22</td>\n",
       "      <td> 04/08/2015</td>\n",
       "      <td> s1055</td>\n",
       "      <td> match_nonmatch</td>\n",
       "      <td> /media/tnaselar/Data/July_2015_preproc/s1055/P...</td>\n",
       "      <td> /media/tnaselar/Data/July_2015_preproc/s1055/P...</td>\n",
       "      <td> 1</td>\n",
       "      <td>   bar</td>\n",
       "      <td> none</td>\n",
       "      <td>       bar_frame_file.txt</td>\n",
       "      <td>...</td>\n",
       "      <td> 0.8</td>\n",
       "      <td> 0.8</td>\n",
       "      <td> 0.8</td>\n",
       "      <td> /musc.repo/mri/7T.cmrr/July.2015/PS/presentation</td>\n",
       "      <td> run_experiment.py</td>\n",
       "      <td> none</td>\n",
       "      <td> /musc.repo/mri/7T.cmrr/July.2015/PS/presentati...</td>\n",
       "      <td> /musc.repo/mri/7T.cmrr/July.2015/PS/presentati...</td>\n",
       "      <td> 0</td>\n",
       "      <td> 0</td>\n",
       "    </tr>\n",
       "    <tr>\n",
       "      <th>23</th>\n",
       "      <td> 23</td>\n",
       "      <td> 04/08/2015</td>\n",
       "      <td> s1055</td>\n",
       "      <td> match_nonmatch</td>\n",
       "      <td> /media/tnaselar/Data/July_2015_preproc/s1055/P...</td>\n",
       "      <td> /media/tnaselar/Data/July_2015_preproc/s1055/P...</td>\n",
       "      <td> 1</td>\n",
       "      <td>   bar</td>\n",
       "      <td> none</td>\n",
       "      <td>       bar_frame_file.txt</td>\n",
       "      <td>...</td>\n",
       "      <td> 0.8</td>\n",
       "      <td> 0.8</td>\n",
       "      <td> 0.8</td>\n",
       "      <td> /musc.repo/mri/7T.cmrr/July.2015/PS/presentation</td>\n",
       "      <td> run_experiment.py</td>\n",
       "      <td> none</td>\n",
       "      <td> /musc.repo/mri/7T.cmrr/July.2015/PS/presentati...</td>\n",
       "      <td> /musc.repo/mri/7T.cmrr/July.2015/PS/presentati...</td>\n",
       "      <td> 0</td>\n",
       "      <td> 0</td>\n",
       "    </tr>\n",
       "    <tr>\n",
       "      <th>24</th>\n",
       "      <td> 24</td>\n",
       "      <td> 04/08/2015</td>\n",
       "      <td> s1055</td>\n",
       "      <td> match_nonmatch</td>\n",
       "      <td> /media/tnaselar/Data/July_2015_preproc/s1055/P...</td>\n",
       "      <td> /media/tnaselar/Data/July_2015_preproc/s1055/P...</td>\n",
       "      <td> 1</td>\n",
       "      <td>   art</td>\n",
       "      <td> none</td>\n",
       "      <td>       mia_art_run_00.txt</td>\n",
       "      <td>...</td>\n",
       "      <td> 0.8</td>\n",
       "      <td> 0.8</td>\n",
       "      <td> 0.8</td>\n",
       "      <td> /musc.repo/mri/7T.cmrr/July.2015/PS/presentation</td>\n",
       "      <td> run_experiment.py</td>\n",
       "      <td> none</td>\n",
       "      <td> /musc.repo/mri/7T.cmrr/July.2015/PS/presentati...</td>\n",
       "      <td> /musc.repo/mri/7T.cmrr/July.2015/PS/presentati...</td>\n",
       "      <td> 0</td>\n",
       "      <td> 0</td>\n",
       "    </tr>\n",
       "    <tr>\n",
       "      <th>25</th>\n",
       "      <td> 25</td>\n",
       "      <td> 04/08/2015</td>\n",
       "      <td> s1055</td>\n",
       "      <td> match_nonmatch</td>\n",
       "      <td> /media/tnaselar/Data/July_2015_preproc/s1055/P...</td>\n",
       "      <td> /media/tnaselar/Data/July_2015_preproc/s1055/P...</td>\n",
       "      <td> 1</td>\n",
       "      <td>   art</td>\n",
       "      <td> none</td>\n",
       "      <td>       mia_art_run_01.txt</td>\n",
       "      <td>...</td>\n",
       "      <td> 0.8</td>\n",
       "      <td> 0.8</td>\n",
       "      <td> 0.8</td>\n",
       "      <td> /musc.repo/mri/7T.cmrr/July.2015/PS/presentation</td>\n",
       "      <td> run_experiment.py</td>\n",
       "      <td> none</td>\n",
       "      <td> /musc.repo/mri/7T.cmrr/July.2015/PS/presentati...</td>\n",
       "      <td> /musc.repo/mri/7T.cmrr/July.2015/PS/presentati...</td>\n",
       "      <td> 0</td>\n",
       "      <td> 0</td>\n",
       "    </tr>\n",
       "    <tr>\n",
       "      <th>26</th>\n",
       "      <td> 26</td>\n",
       "      <td> 04/08/2015</td>\n",
       "      <td> s1055</td>\n",
       "      <td> match_nonmatch</td>\n",
       "      <td> /media/tnaselar/Data/July_2015_preproc/s1055/P...</td>\n",
       "      <td> /media/tnaselar/Data/July_2015_preproc/s1055/P...</td>\n",
       "      <td> 1</td>\n",
       "      <td>   art</td>\n",
       "      <td> none</td>\n",
       "      <td>       mia_art_run_03.txt</td>\n",
       "      <td>...</td>\n",
       "      <td> 0.8</td>\n",
       "      <td> 0.8</td>\n",
       "      <td> 0.8</td>\n",
       "      <td> /musc.repo/mri/7T.cmrr/July.2015/PS/presentation</td>\n",
       "      <td> run_experiment.py</td>\n",
       "      <td> none</td>\n",
       "      <td> /musc.repo/mri/7T.cmrr/July.2015/PS/presentati...</td>\n",
       "      <td> /musc.repo/mri/7T.cmrr/July.2015/PS/presentati...</td>\n",
       "      <td> 0</td>\n",
       "      <td> 0</td>\n",
       "    </tr>\n",
       "    <tr>\n",
       "      <th>27</th>\n",
       "      <td> 27</td>\n",
       "      <td> 04/08/2015</td>\n",
       "      <td> s1055</td>\n",
       "      <td> match_nonmatch</td>\n",
       "      <td> /media/tnaselar/Data/July_2015_preproc/s1055/P...</td>\n",
       "      <td> /media/tnaselar/Data/July_2015_preproc/s1055/P...</td>\n",
       "      <td> 1</td>\n",
       "      <td>   art</td>\n",
       "      <td> none</td>\n",
       "      <td>       mia_art_run_04.txt</td>\n",
       "      <td>...</td>\n",
       "      <td> 0.8</td>\n",
       "      <td> 0.8</td>\n",
       "      <td> 0.8</td>\n",
       "      <td> /musc.repo/mri/7T.cmrr/July.2015/PS/presentation</td>\n",
       "      <td> run_experiment.py</td>\n",
       "      <td> none</td>\n",
       "      <td> /musc.repo/mri/7T.cmrr/July.2015/PS/presentati...</td>\n",
       "      <td> /musc.repo/mri/7T.cmrr/July.2015/PS/presentati...</td>\n",
       "      <td> 0</td>\n",
       "      <td> 0</td>\n",
       "    </tr>\n",
       "    <tr>\n",
       "      <th>28</th>\n",
       "      <td> 28</td>\n",
       "      <td> 04/08/2015</td>\n",
       "      <td> s1055</td>\n",
       "      <td> match_nonmatch</td>\n",
       "      <td> /media/tnaselar/Data/July_2015_preproc/s1055/P...</td>\n",
       "      <td> /media/tnaselar/Data/July_2015_preproc/s1055/P...</td>\n",
       "      <td> 1</td>\n",
       "      <td>   art</td>\n",
       "      <td> none</td>\n",
       "      <td>       mia_art_run_05.txt</td>\n",
       "      <td>...</td>\n",
       "      <td> 0.8</td>\n",
       "      <td> 0.8</td>\n",
       "      <td> 0.8</td>\n",
       "      <td> /musc.repo/mri/7T.cmrr/July.2015/PS/presentation</td>\n",
       "      <td> run_experiment.py</td>\n",
       "      <td> none</td>\n",
       "      <td> /musc.repo/mri/7T.cmrr/July.2015/PS/presentati...</td>\n",
       "      <td> /musc.repo/mri/7T.cmrr/July.2015/PS/presentati...</td>\n",
       "      <td> 0</td>\n",
       "      <td> 0</td>\n",
       "    </tr>\n",
       "    <tr>\n",
       "      <th>29</th>\n",
       "      <td> 29</td>\n",
       "      <td> 04/08/2015</td>\n",
       "      <td> s1055</td>\n",
       "      <td> match_nonmatch</td>\n",
       "      <td> /media/tnaselar/Data/July_2015_preproc/s1055/P...</td>\n",
       "      <td> /media/tnaselar/Data/July_2015_preproc/s1055/P...</td>\n",
       "      <td> 1</td>\n",
       "      <td>   art</td>\n",
       "      <td> none</td>\n",
       "      <td>       mia_art_run_06.txt</td>\n",
       "      <td>...</td>\n",
       "      <td> 0.8</td>\n",
       "      <td> 0.8</td>\n",
       "      <td> 0.8</td>\n",
       "      <td> /musc.repo/mri/7T.cmrr/July.2015/PS/presentation</td>\n",
       "      <td> run_experiment.py</td>\n",
       "      <td> none</td>\n",
       "      <td> /musc.repo/mri/7T.cmrr/July.2015/PS/presentati...</td>\n",
       "      <td> /musc.repo/mri/7T.cmrr/July.2015/PS/presentati...</td>\n",
       "      <td> 0</td>\n",
       "      <td> 0</td>\n",
       "    </tr>\n",
       "    <tr>\n",
       "      <th>30</th>\n",
       "      <td> 30</td>\n",
       "      <td> 04/08/2015</td>\n",
       "      <td> s1055</td>\n",
       "      <td> match_nonmatch</td>\n",
       "      <td> /media/tnaselar/Data/July_2015_preproc/s1055/P...</td>\n",
       "      <td> /media/tnaselar/Data/July_2015_preproc/s1055/P...</td>\n",
       "      <td> 1</td>\n",
       "      <td>   art</td>\n",
       "      <td> none</td>\n",
       "      <td>       mia_art_run_07.txt</td>\n",
       "      <td>...</td>\n",
       "      <td> 0.8</td>\n",
       "      <td> 0.8</td>\n",
       "      <td> 0.8</td>\n",
       "      <td> /musc.repo/mri/7T.cmrr/July.2015/PS/presentation</td>\n",
       "      <td> run_experiment.py</td>\n",
       "      <td> none</td>\n",
       "      <td> /musc.repo/mri/7T.cmrr/July.2015/PS/presentati...</td>\n",
       "      <td> /musc.repo/mri/7T.cmrr/July.2015/PS/presentati...</td>\n",
       "      <td> 0</td>\n",
       "      <td> 0</td>\n",
       "    </tr>\n",
       "    <tr>\n",
       "      <th>31</th>\n",
       "      <td> 31</td>\n",
       "      <td> 27/07/2015</td>\n",
       "      <td> s1055</td>\n",
       "      <td> match_nonmatch</td>\n",
       "      <td> /media/tnaselar/Data/July_2015_preproc/s1055/P...</td>\n",
       "      <td> /media/tnaselar/Data/July_2015_preproc/s1055/P...</td>\n",
       "      <td> 1</td>\n",
       "      <td> wedge</td>\n",
       "      <td> none</td>\n",
       "      <td>     wedge_frame_file.txt</td>\n",
       "      <td>...</td>\n",
       "      <td> 0.8</td>\n",
       "      <td> 0.8</td>\n",
       "      <td> 0.8</td>\n",
       "      <td> /musc.repo/mri/7T.cmrr/July.2015/PS/presentation</td>\n",
       "      <td> run_experiment.py</td>\n",
       "      <td> none</td>\n",
       "      <td> /musc.repo/mri/7T.cmrr/July.2015/PS/presentati...</td>\n",
       "      <td> /musc.repo/mri/7T.cmrr/July.2015/PS/presentati...</td>\n",
       "      <td> 0</td>\n",
       "      <td> 0</td>\n",
       "    </tr>\n",
       "    <tr>\n",
       "      <th>32</th>\n",
       "      <td> 32</td>\n",
       "      <td> 29/07/2015</td>\n",
       "      <td> s1055</td>\n",
       "      <td> match_nonmatch</td>\n",
       "      <td> /media/tnaselar/Data/July_2015_preproc/s1055/P...</td>\n",
       "      <td> /media/tnaselar/Data/July_2015_preproc/s1055/P...</td>\n",
       "      <td> 1</td>\n",
       "      <td>  freq</td>\n",
       "      <td> none</td>\n",
       "      <td> spatial_freq_run_000.txt</td>\n",
       "      <td>...</td>\n",
       "      <td> 0.8</td>\n",
       "      <td> 0.8</td>\n",
       "      <td> 0.8</td>\n",
       "      <td> /musc.repo/mri/7T.cmrr/July.2015/PS/presentation</td>\n",
       "      <td> run_experiment.py</td>\n",
       "      <td> none</td>\n",
       "      <td> /musc.repo/mri/7T.cmrr/July.2015/PS/presentati...</td>\n",
       "      <td> /musc.repo/mri/7T.cmrr/July.2015/PS/presentati...</td>\n",
       "      <td> 0</td>\n",
       "      <td> 0</td>\n",
       "    </tr>\n",
       "    <tr>\n",
       "      <th>33</th>\n",
       "      <td> 33</td>\n",
       "      <td> 29/07/2015</td>\n",
       "      <td> s1055</td>\n",
       "      <td> match_nonmatch</td>\n",
       "      <td> /media/tnaselar/Data/July_2015_preproc/s1055/P...</td>\n",
       "      <td> /media/tnaselar/Data/July_2015_preproc/s1055/P...</td>\n",
       "      <td> 1</td>\n",
       "      <td>  freq</td>\n",
       "      <td> none</td>\n",
       "      <td> spatial_freq_run_003.txt</td>\n",
       "      <td>...</td>\n",
       "      <td> 0.8</td>\n",
       "      <td> 0.8</td>\n",
       "      <td> 0.8</td>\n",
       "      <td> /musc.repo/mri/7T.cmrr/July.2015/PS/presentation</td>\n",
       "      <td> run_experiment.py</td>\n",
       "      <td> none</td>\n",
       "      <td> /musc.repo/mri/7T.cmrr/July.2015/PS/presentati...</td>\n",
       "      <td> /musc.repo/mri/7T.cmrr/July.2015/PS/presentati...</td>\n",
       "      <td> 0</td>\n",
       "      <td> 0</td>\n",
       "    </tr>\n",
       "    <tr>\n",
       "      <th>34</th>\n",
       "      <td> 34</td>\n",
       "      <td> 04/08/2015</td>\n",
       "      <td> s1055</td>\n",
       "      <td> match_nonmatch</td>\n",
       "      <td> /media/tnaselar/Data/July_2015_preproc/s1055/P...</td>\n",
       "      <td> /media/tnaselar/Data/July_2015_preproc/s1055/P...</td>\n",
       "      <td> 1</td>\n",
       "      <td>  freq</td>\n",
       "      <td> none</td>\n",
       "      <td> spatial_freq_run_000.txt</td>\n",
       "      <td>...</td>\n",
       "      <td> 0.8</td>\n",
       "      <td> 0.8</td>\n",
       "      <td> 0.8</td>\n",
       "      <td> /musc.repo/mri/7T.cmrr/July.2015/PS/presentation</td>\n",
       "      <td> run_experiment.py</td>\n",
       "      <td> none</td>\n",
       "      <td> /musc.repo/mri/7T.cmrr/July.2015/PS/presentati...</td>\n",
       "      <td> /musc.repo/mri/7T.cmrr/July.2015/PS/presentati...</td>\n",
       "      <td> 0</td>\n",
       "      <td> 0</td>\n",
       "    </tr>\n",
       "    <tr>\n",
       "      <th>35</th>\n",
       "      <td> 35</td>\n",
       "      <td> 04/08/2015</td>\n",
       "      <td> s1055</td>\n",
       "      <td> match_nonmatch</td>\n",
       "      <td> /media/tnaselar/Data/July_2015_preproc/s1055/P...</td>\n",
       "      <td> /media/tnaselar/Data/July_2015_preproc/s1055/P...</td>\n",
       "      <td> 1</td>\n",
       "      <td>  freq</td>\n",
       "      <td> none</td>\n",
       "      <td> spatial_freq_run_001.txt</td>\n",
       "      <td>...</td>\n",
       "      <td> 0.8</td>\n",
       "      <td> 0.8</td>\n",
       "      <td> 0.8</td>\n",
       "      <td> /musc.repo/mri/7T.cmrr/July.2015/PS/presentation</td>\n",
       "      <td> run_experiment.py</td>\n",
       "      <td> none</td>\n",
       "      <td> /musc.repo/mri/7T.cmrr/July.2015/PS/presentati...</td>\n",
       "      <td> /musc.repo/mri/7T.cmrr/July.2015/PS/presentati...</td>\n",
       "      <td> 0</td>\n",
       "      <td> 0</td>\n",
       "    </tr>\n",
       "    <tr>\n",
       "      <th>36</th>\n",
       "      <td> 36</td>\n",
       "      <td> 04/08/2015</td>\n",
       "      <td> s1055</td>\n",
       "      <td> match_nonmatch</td>\n",
       "      <td> /media/tnaselar/Data/July_2015_preproc/s1055/P...</td>\n",
       "      <td> /media/tnaselar/Data/July_2015_preproc/s1055/P...</td>\n",
       "      <td> 1</td>\n",
       "      <td>   art</td>\n",
       "      <td> none</td>\n",
       "      <td>       mia_art_run_02.txt</td>\n",
       "      <td>...</td>\n",
       "      <td> 0.8</td>\n",
       "      <td> 0.8</td>\n",
       "      <td> 0.8</td>\n",
       "      <td> /musc.repo/mri/7T.cmrr/July.2015/PS/presentation</td>\n",
       "      <td> run_experiment.py</td>\n",
       "      <td> none</td>\n",
       "      <td> /musc.repo/mri/7T.cmrr/July.2015/PS/presentati...</td>\n",
       "      <td> /musc.repo/mri/7T.cmrr/July.2015/PS/presentati...</td>\n",
       "      <td> 0</td>\n",
       "      <td> 0</td>\n",
       "    </tr>\n",
       "  </tbody>\n",
       "</table>\n",
       "<p>20 rows × 29 columns</p>\n",
       "</div>"
      ],
      "text/plain": [
       "    runID        date subject      experiment  \\\n",
       "17     17  29/07/2015   s1055  match_nonmatch   \n",
       "18     18  29/07/2015   s1055  match_nonmatch   \n",
       "19     19  04/08/2015   s1055  match_nonmatch   \n",
       "20     20  04/08/2015   s1055  match_nonmatch   \n",
       "21     21  04/08/2015   s1055  match_nonmatch   \n",
       "22     22  04/08/2015   s1055  match_nonmatch   \n",
       "23     23  04/08/2015   s1055  match_nonmatch   \n",
       "24     24  04/08/2015   s1055  match_nonmatch   \n",
       "25     25  04/08/2015   s1055  match_nonmatch   \n",
       "26     26  04/08/2015   s1055  match_nonmatch   \n",
       "27     27  04/08/2015   s1055  match_nonmatch   \n",
       "28     28  04/08/2015   s1055  match_nonmatch   \n",
       "29     29  04/08/2015   s1055  match_nonmatch   \n",
       "30     30  04/08/2015   s1055  match_nonmatch   \n",
       "31     31  27/07/2015   s1055  match_nonmatch   \n",
       "32     32  29/07/2015   s1055  match_nonmatch   \n",
       "33     33  29/07/2015   s1055  match_nonmatch   \n",
       "34     34  04/08/2015   s1055  match_nonmatch   \n",
       "35     35  04/08/2015   s1055  match_nonmatch   \n",
       "36     36  04/08/2015   s1055  match_nonmatch   \n",
       "\n",
       "                                          working_vol  \\\n",
       "17  /media/tnaselar/Data/July_2015_preproc/s1055/P...   \n",
       "18  /media/tnaselar/Data/July_2015_preproc/s1055/P...   \n",
       "19  /media/tnaselar/Data/July_2015_preproc/s1055/P...   \n",
       "20  /media/tnaselar/Data/July_2015_preproc/s1055/P...   \n",
       "21  /media/tnaselar/Data/July_2015_preproc/s1055/P...   \n",
       "22  /media/tnaselar/Data/July_2015_preproc/s1055/P...   \n",
       "23  /media/tnaselar/Data/July_2015_preproc/s1055/P...   \n",
       "24  /media/tnaselar/Data/July_2015_preproc/s1055/P...   \n",
       "25  /media/tnaselar/Data/July_2015_preproc/s1055/P...   \n",
       "26  /media/tnaselar/Data/July_2015_preproc/s1055/P...   \n",
       "27  /media/tnaselar/Data/July_2015_preproc/s1055/P...   \n",
       "28  /media/tnaselar/Data/July_2015_preproc/s1055/P...   \n",
       "29  /media/tnaselar/Data/July_2015_preproc/s1055/P...   \n",
       "30  /media/tnaselar/Data/July_2015_preproc/s1055/P...   \n",
       "31  /media/tnaselar/Data/July_2015_preproc/s1055/P...   \n",
       "32  /media/tnaselar/Data/July_2015_preproc/s1055/P...   \n",
       "33  /media/tnaselar/Data/July_2015_preproc/s1055/P...   \n",
       "34  /media/tnaselar/Data/July_2015_preproc/s1055/P...   \n",
       "35  /media/tnaselar/Data/July_2015_preproc/s1055/P...   \n",
       "36  /media/tnaselar/Data/July_2015_preproc/s1055/P...   \n",
       "\n",
       "                                           brain_mask  sessionID runType  \\\n",
       "17  /media/tnaselar/Data/July_2015_preproc/s1055/P...          1   wedge   \n",
       "18  /media/tnaselar/Data/July_2015_preproc/s1055/P...          1     bar   \n",
       "19  /media/tnaselar/Data/July_2015_preproc/s1055/P...          1    freq   \n",
       "20  /media/tnaselar/Data/July_2015_preproc/s1055/P...          1   wedge   \n",
       "21  /media/tnaselar/Data/July_2015_preproc/s1055/P...          1   wedge   \n",
       "22  /media/tnaselar/Data/July_2015_preproc/s1055/P...          1     bar   \n",
       "23  /media/tnaselar/Data/July_2015_preproc/s1055/P...          1     bar   \n",
       "24  /media/tnaselar/Data/July_2015_preproc/s1055/P...          1     art   \n",
       "25  /media/tnaselar/Data/July_2015_preproc/s1055/P...          1     art   \n",
       "26  /media/tnaselar/Data/July_2015_preproc/s1055/P...          1     art   \n",
       "27  /media/tnaselar/Data/July_2015_preproc/s1055/P...          1     art   \n",
       "28  /media/tnaselar/Data/July_2015_preproc/s1055/P...          1     art   \n",
       "29  /media/tnaselar/Data/July_2015_preproc/s1055/P...          1     art   \n",
       "30  /media/tnaselar/Data/July_2015_preproc/s1055/P...          1     art   \n",
       "31  /media/tnaselar/Data/July_2015_preproc/s1055/P...          1   wedge   \n",
       "32  /media/tnaselar/Data/July_2015_preproc/s1055/P...          1    freq   \n",
       "33  /media/tnaselar/Data/July_2015_preproc/s1055/P...          1    freq   \n",
       "34  /media/tnaselar/Data/July_2015_preproc/s1055/P...          1    freq   \n",
       "35  /media/tnaselar/Data/July_2015_preproc/s1055/P...          1    freq   \n",
       "36  /media/tnaselar/Data/July_2015_preproc/s1055/P...          1     art   \n",
       "\n",
       "   design matrix                frame_file            ...            vox_x  \\\n",
       "17          none      wedge_frame_file.txt            ...              0.8   \n",
       "18          none        bar_frame_file.txt            ...              0.8   \n",
       "19          none  spatial_freq_run_002.txt            ...              0.8   \n",
       "20          none      wedge_frame_file.txt            ...              0.8   \n",
       "21          none      wedge_frame_file.txt            ...              0.8   \n",
       "22          none        bar_frame_file.txt            ...              0.8   \n",
       "23          none        bar_frame_file.txt            ...              0.8   \n",
       "24          none        mia_art_run_00.txt            ...              0.8   \n",
       "25          none        mia_art_run_01.txt            ...              0.8   \n",
       "26          none        mia_art_run_03.txt            ...              0.8   \n",
       "27          none        mia_art_run_04.txt            ...              0.8   \n",
       "28          none        mia_art_run_05.txt            ...              0.8   \n",
       "29          none        mia_art_run_06.txt            ...              0.8   \n",
       "30          none        mia_art_run_07.txt            ...              0.8   \n",
       "31          none      wedge_frame_file.txt            ...              0.8   \n",
       "32          none  spatial_freq_run_000.txt            ...              0.8   \n",
       "33          none  spatial_freq_run_003.txt            ...              0.8   \n",
       "34          none  spatial_freq_run_000.txt            ...              0.8   \n",
       "35          none  spatial_freq_run_001.txt            ...              0.8   \n",
       "36          none        mia_art_run_02.txt            ...              0.8   \n",
       "\n",
       "    vox_y vox_z                                     run_code_path  \\\n",
       "17    0.8   0.8  /musc.repo/mri/7T.cmrr/July.2015/PS/presentation   \n",
       "18    0.8   0.8  /musc.repo/mri/7T.cmrr/July.2015/PS/presentation   \n",
       "19    0.8   0.8  /musc.repo/mri/7T.cmrr/July.2015/PS/presentation   \n",
       "20    0.8   0.8  /musc.repo/mri/7T.cmrr/July.2015/PS/presentation   \n",
       "21    0.8   0.8  /musc.repo/mri/7T.cmrr/July.2015/PS/presentation   \n",
       "22    0.8   0.8  /musc.repo/mri/7T.cmrr/July.2015/PS/presentation   \n",
       "23    0.8   0.8  /musc.repo/mri/7T.cmrr/July.2015/PS/presentation   \n",
       "24    0.8   0.8  /musc.repo/mri/7T.cmrr/July.2015/PS/presentation   \n",
       "25    0.8   0.8  /musc.repo/mri/7T.cmrr/July.2015/PS/presentation   \n",
       "26    0.8   0.8  /musc.repo/mri/7T.cmrr/July.2015/PS/presentation   \n",
       "27    0.8   0.8  /musc.repo/mri/7T.cmrr/July.2015/PS/presentation   \n",
       "28    0.8   0.8  /musc.repo/mri/7T.cmrr/July.2015/PS/presentation   \n",
       "29    0.8   0.8  /musc.repo/mri/7T.cmrr/July.2015/PS/presentation   \n",
       "30    0.8   0.8  /musc.repo/mri/7T.cmrr/July.2015/PS/presentation   \n",
       "31    0.8   0.8  /musc.repo/mri/7T.cmrr/July.2015/PS/presentation   \n",
       "32    0.8   0.8  /musc.repo/mri/7T.cmrr/July.2015/PS/presentation   \n",
       "33    0.8   0.8  /musc.repo/mri/7T.cmrr/July.2015/PS/presentation   \n",
       "34    0.8   0.8  /musc.repo/mri/7T.cmrr/July.2015/PS/presentation   \n",
       "35    0.8   0.8  /musc.repo/mri/7T.cmrr/July.2015/PS/presentation   \n",
       "36    0.8   0.8  /musc.repo/mri/7T.cmrr/July.2015/PS/presentation   \n",
       "\n",
       "        run_code_file  design_matrix_path  \\\n",
       "17  run_experiment.py                none   \n",
       "18  run_experiment.py                none   \n",
       "19  run_experiment.py                none   \n",
       "20  run_experiment.py                none   \n",
       "21  run_experiment.py                none   \n",
       "22  run_experiment.py                none   \n",
       "23  run_experiment.py                none   \n",
       "24  run_experiment.py                none   \n",
       "25  run_experiment.py                none   \n",
       "26  run_experiment.py                none   \n",
       "27  run_experiment.py                none   \n",
       "28  run_experiment.py                none   \n",
       "29  run_experiment.py                none   \n",
       "30  run_experiment.py                none   \n",
       "31  run_experiment.py                none   \n",
       "32  run_experiment.py                none   \n",
       "33  run_experiment.py                none   \n",
       "34  run_experiment.py                none   \n",
       "35  run_experiment.py                none   \n",
       "36  run_experiment.py                none   \n",
       "\n",
       "                                        frameFilePath  \\\n",
       "17  /musc.repo/mri/7T.cmrr/July.2015/PS/presentati...   \n",
       "18  /musc.repo/mri/7T.cmrr/July.2015/PS/presentati...   \n",
       "19  /musc.repo/mri/7T.cmrr/July.2015/PS/presentati...   \n",
       "20  /musc.repo/mri/7T.cmrr/July.2015/PS/presentati...   \n",
       "21  /musc.repo/mri/7T.cmrr/July.2015/PS/presentati...   \n",
       "22  /musc.repo/mri/7T.cmrr/July.2015/PS/presentati...   \n",
       "23  /musc.repo/mri/7T.cmrr/July.2015/PS/presentati...   \n",
       "24  /musc.repo/mri/7T.cmrr/July.2015/PS/presentati...   \n",
       "25  /musc.repo/mri/7T.cmrr/July.2015/PS/presentati...   \n",
       "26  /musc.repo/mri/7T.cmrr/July.2015/PS/presentati...   \n",
       "27  /musc.repo/mri/7T.cmrr/July.2015/PS/presentati...   \n",
       "28  /musc.repo/mri/7T.cmrr/July.2015/PS/presentati...   \n",
       "29  /musc.repo/mri/7T.cmrr/July.2015/PS/presentati...   \n",
       "30  /musc.repo/mri/7T.cmrr/July.2015/PS/presentati...   \n",
       "31  /musc.repo/mri/7T.cmrr/July.2015/PS/presentati...   \n",
       "32  /musc.repo/mri/7T.cmrr/July.2015/PS/presentati...   \n",
       "33  /musc.repo/mri/7T.cmrr/July.2015/PS/presentati...   \n",
       "34  /musc.repo/mri/7T.cmrr/July.2015/PS/presentati...   \n",
       "35  /musc.repo/mri/7T.cmrr/July.2015/PS/presentati...   \n",
       "36  /musc.repo/mri/7T.cmrr/July.2015/PS/presentati...   \n",
       "\n",
       "                                              picPath  siemensRef  padVol  \n",
       "17  /musc.repo/mri/7T.cmrr/July.2015/PS/presentati...           0       0  \n",
       "18  /musc.repo/mri/7T.cmrr/July.2015/PS/presentati...           0       0  \n",
       "19  /musc.repo/mri/7T.cmrr/July.2015/PS/presentati...           0       0  \n",
       "20  /musc.repo/mri/7T.cmrr/July.2015/PS/presentati...           0       0  \n",
       "21  /musc.repo/mri/7T.cmrr/July.2015/PS/presentati...           0       0  \n",
       "22  /musc.repo/mri/7T.cmrr/July.2015/PS/presentati...           0       0  \n",
       "23  /musc.repo/mri/7T.cmrr/July.2015/PS/presentati...           0       0  \n",
       "24  /musc.repo/mri/7T.cmrr/July.2015/PS/presentati...           0       0  \n",
       "25  /musc.repo/mri/7T.cmrr/July.2015/PS/presentati...           0       0  \n",
       "26  /musc.repo/mri/7T.cmrr/July.2015/PS/presentati...           0       0  \n",
       "27  /musc.repo/mri/7T.cmrr/July.2015/PS/presentati...           0       0  \n",
       "28  /musc.repo/mri/7T.cmrr/July.2015/PS/presentati...           0       0  \n",
       "29  /musc.repo/mri/7T.cmrr/July.2015/PS/presentati...           0       0  \n",
       "30  /musc.repo/mri/7T.cmrr/July.2015/PS/presentati...           0       0  \n",
       "31  /musc.repo/mri/7T.cmrr/July.2015/PS/presentati...           0       0  \n",
       "32  /musc.repo/mri/7T.cmrr/July.2015/PS/presentati...           0       0  \n",
       "33  /musc.repo/mri/7T.cmrr/July.2015/PS/presentati...           0       0  \n",
       "34  /musc.repo/mri/7T.cmrr/July.2015/PS/presentati...           0       0  \n",
       "35  /musc.repo/mri/7T.cmrr/July.2015/PS/presentati...           0       0  \n",
       "36  /musc.repo/mri/7T.cmrr/July.2015/PS/presentati...           0       0  \n",
       "\n",
       "[20 rows x 29 columns]"
      ]
     },
     "execution_count": 3,
     "metadata": {},
     "output_type": "execute_result"
    }
   ],
   "source": [
    "data_db = pd.io.parsers.read_csv(db,header=0)\n",
    "data_db.tail(20)"
   ]
  },
  {
   "cell_type": "markdown",
   "metadata": {},
   "source": [
    "###Specify runs for training and testing the model"
   ]
  },
  {
   "cell_type": "code",
   "execution_count": 4,
   "metadata": {
    "collapsed": false
   },
   "outputs": [],
   "source": [
    "def select_run(row,runType):\n",
    "    return row['runType'] in [runType]\n",
    "\n",
    "\n",
    "wedge_runs = list(data_db[data_db.apply(select_run,axis=1,args=('wedge',))].runID)\n",
    "bar_runs = list(data_db[data_db.apply(select_run,axis=1,args=('bar',))].runID)\n",
    "art_runs = list(data_db[data_db.apply(select_run,axis=1,args=('art',))].runID)\n",
    "\n",
    "training_runs = wedge_runs[1:3]+bar_runs[1:3]\n",
    "selection_runs = wedge_runs[0:1]+bar_runs[0:1]\n",
    "validation_runs = wedge_runs[3:4]+bar_runs[3:4]\n",
    "# validation_run_ids = data_db[data_db.apply(lambda row: row['runType'] in validation_run_types,axis=1)].runID"
   ]
  },
  {
   "cell_type": "code",
   "execution_count": 5,
   "metadata": {
    "collapsed": false
   },
   "outputs": [
    {
     "data": {
      "text/html": [
       "<div style=\"max-height:1000px;max-width:1500px;overflow:auto;\">\n",
       "<table border=\"1\" class=\"dataframe\">\n",
       "  <thead>\n",
       "    <tr style=\"text-align: right;\">\n",
       "      <th></th>\n",
       "      <th>runID</th>\n",
       "      <th>date</th>\n",
       "      <th>subject</th>\n",
       "      <th>experiment</th>\n",
       "      <th>working_vol</th>\n",
       "      <th>brain_mask</th>\n",
       "      <th>sessionID</th>\n",
       "      <th>runType</th>\n",
       "      <th>design matrix</th>\n",
       "      <th>frame_file</th>\n",
       "      <th>...</th>\n",
       "      <th>vox_x</th>\n",
       "      <th>vox_y</th>\n",
       "      <th>vox_z</th>\n",
       "      <th>run_code_path</th>\n",
       "      <th>run_code_file</th>\n",
       "      <th>design_matrix_path</th>\n",
       "      <th>frameFilePath</th>\n",
       "      <th>picPath</th>\n",
       "      <th>siemensRef</th>\n",
       "      <th>padVol</th>\n",
       "    </tr>\n",
       "  </thead>\n",
       "  <tbody>\n",
       "    <tr>\n",
       "      <th>1 </th>\n",
       "      <td>  1</td>\n",
       "      <td> 27/07/2015</td>\n",
       "      <td> s1055</td>\n",
       "      <td> match_nonmatch</td>\n",
       "      <td> /media/tnaselar/Data/July_2015_preproc/s1055/P...</td>\n",
       "      <td> /media/tnaselar/Data/July_2015_preproc/s1055/P...</td>\n",
       "      <td> 1</td>\n",
       "      <td> wedge</td>\n",
       "      <td> none</td>\n",
       "      <td> wedge_frame_file.txt</td>\n",
       "      <td>...</td>\n",
       "      <td> 0.8</td>\n",
       "      <td> 0.8</td>\n",
       "      <td> 0.8</td>\n",
       "      <td> /musc.repo/mri/7T.cmrr/July.2015/PS/presentation</td>\n",
       "      <td> run_experiment.py</td>\n",
       "      <td> none</td>\n",
       "      <td> /musc.repo/mri/7T.cmrr/July.2015/PS/presentati...</td>\n",
       "      <td> /musc.repo/mri/7T.cmrr/July.2015/PS/presentati...</td>\n",
       "      <td> 0</td>\n",
       "      <td> 0</td>\n",
       "    </tr>\n",
       "    <tr>\n",
       "      <th>13</th>\n",
       "      <td> 13</td>\n",
       "      <td> 27/07/2015</td>\n",
       "      <td> s1055</td>\n",
       "      <td> match_nonmatch</td>\n",
       "      <td> /media/tnaselar/Data/July_2015_preproc/s1055/P...</td>\n",
       "      <td> /media/tnaselar/Data/July_2015_preproc/s1055/P...</td>\n",
       "      <td> 1</td>\n",
       "      <td> wedge</td>\n",
       "      <td> none</td>\n",
       "      <td> wedge_frame_file.txt</td>\n",
       "      <td>...</td>\n",
       "      <td> 0.8</td>\n",
       "      <td> 0.8</td>\n",
       "      <td> 0.8</td>\n",
       "      <td> /musc.repo/mri/7T.cmrr/July.2015/PS/presentation</td>\n",
       "      <td> run_experiment.py</td>\n",
       "      <td> none</td>\n",
       "      <td> /musc.repo/mri/7T.cmrr/July.2015/PS/presentati...</td>\n",
       "      <td> /musc.repo/mri/7T.cmrr/July.2015/PS/presentati...</td>\n",
       "      <td> 0</td>\n",
       "      <td> 0</td>\n",
       "    </tr>\n",
       "    <tr>\n",
       "      <th>3 </th>\n",
       "      <td>  3</td>\n",
       "      <td> 27/07/2015</td>\n",
       "      <td> s1055</td>\n",
       "      <td> match_nonmatch</td>\n",
       "      <td> /media/tnaselar/Data/July_2015_preproc/s1055/P...</td>\n",
       "      <td> /media/tnaselar/Data/July_2015_preproc/s1055/P...</td>\n",
       "      <td> 1</td>\n",
       "      <td>   bar</td>\n",
       "      <td> none</td>\n",
       "      <td>   bar_frame_file.txt</td>\n",
       "      <td>...</td>\n",
       "      <td> 0.8</td>\n",
       "      <td> 0.8</td>\n",
       "      <td> 0.8</td>\n",
       "      <td> /musc.repo/mri/7T.cmrr/July.2015/PS/presentation</td>\n",
       "      <td> run_experiment.py</td>\n",
       "      <td> none</td>\n",
       "      <td> /musc.repo/mri/7T.cmrr/July.2015/PS/presentati...</td>\n",
       "      <td> /musc.repo/mri/7T.cmrr/July.2015/PS/presentati...</td>\n",
       "      <td> 0</td>\n",
       "      <td> 0</td>\n",
       "    </tr>\n",
       "    <tr>\n",
       "      <th>4 </th>\n",
       "      <td>  4</td>\n",
       "      <td> 27/07/2015</td>\n",
       "      <td> s1055</td>\n",
       "      <td> match_nonmatch</td>\n",
       "      <td> /media/tnaselar/Data/July_2015_preproc/s1055/P...</td>\n",
       "      <td> /media/tnaselar/Data/July_2015_preproc/s1055/P...</td>\n",
       "      <td> 1</td>\n",
       "      <td>   bar</td>\n",
       "      <td> none</td>\n",
       "      <td>   bar_frame_file.txt</td>\n",
       "      <td>...</td>\n",
       "      <td> 0.8</td>\n",
       "      <td> 0.8</td>\n",
       "      <td> 0.8</td>\n",
       "      <td> /musc.repo/mri/7T.cmrr/July.2015/PS/presentation</td>\n",
       "      <td> run_experiment.py</td>\n",
       "      <td> none</td>\n",
       "      <td> /musc.repo/mri/7T.cmrr/July.2015/PS/presentati...</td>\n",
       "      <td> /musc.repo/mri/7T.cmrr/July.2015/PS/presentati...</td>\n",
       "      <td> 0</td>\n",
       "      <td> 0</td>\n",
       "    </tr>\n",
       "  </tbody>\n",
       "</table>\n",
       "<p>4 rows × 29 columns</p>\n",
       "</div>"
      ],
      "text/plain": [
       "    runID        date subject      experiment  \\\n",
       "1       1  27/07/2015   s1055  match_nonmatch   \n",
       "13     13  27/07/2015   s1055  match_nonmatch   \n",
       "3       3  27/07/2015   s1055  match_nonmatch   \n",
       "4       4  27/07/2015   s1055  match_nonmatch   \n",
       "\n",
       "                                          working_vol  \\\n",
       "1   /media/tnaselar/Data/July_2015_preproc/s1055/P...   \n",
       "13  /media/tnaselar/Data/July_2015_preproc/s1055/P...   \n",
       "3   /media/tnaselar/Data/July_2015_preproc/s1055/P...   \n",
       "4   /media/tnaselar/Data/July_2015_preproc/s1055/P...   \n",
       "\n",
       "                                           brain_mask  sessionID runType  \\\n",
       "1   /media/tnaselar/Data/July_2015_preproc/s1055/P...          1   wedge   \n",
       "13  /media/tnaselar/Data/July_2015_preproc/s1055/P...          1   wedge   \n",
       "3   /media/tnaselar/Data/July_2015_preproc/s1055/P...          1     bar   \n",
       "4   /media/tnaselar/Data/July_2015_preproc/s1055/P...          1     bar   \n",
       "\n",
       "   design matrix            frame_file          ...          vox_x  vox_y  \\\n",
       "1           none  wedge_frame_file.txt          ...            0.8    0.8   \n",
       "13          none  wedge_frame_file.txt          ...            0.8    0.8   \n",
       "3           none    bar_frame_file.txt          ...            0.8    0.8   \n",
       "4           none    bar_frame_file.txt          ...            0.8    0.8   \n",
       "\n",
       "   vox_z                                     run_code_path      run_code_file  \\\n",
       "1    0.8  /musc.repo/mri/7T.cmrr/July.2015/PS/presentation  run_experiment.py   \n",
       "13   0.8  /musc.repo/mri/7T.cmrr/July.2015/PS/presentation  run_experiment.py   \n",
       "3    0.8  /musc.repo/mri/7T.cmrr/July.2015/PS/presentation  run_experiment.py   \n",
       "4    0.8  /musc.repo/mri/7T.cmrr/July.2015/PS/presentation  run_experiment.py   \n",
       "\n",
       "    design_matrix_path                                      frameFilePath  \\\n",
       "1                 none  /musc.repo/mri/7T.cmrr/July.2015/PS/presentati...   \n",
       "13                none  /musc.repo/mri/7T.cmrr/July.2015/PS/presentati...   \n",
       "3                 none  /musc.repo/mri/7T.cmrr/July.2015/PS/presentati...   \n",
       "4                 none  /musc.repo/mri/7T.cmrr/July.2015/PS/presentati...   \n",
       "\n",
       "                                              picPath  siemensRef  padVol  \n",
       "1   /musc.repo/mri/7T.cmrr/July.2015/PS/presentati...           0       0  \n",
       "13  /musc.repo/mri/7T.cmrr/July.2015/PS/presentati...           0       0  \n",
       "3   /musc.repo/mri/7T.cmrr/July.2015/PS/presentati...           0       0  \n",
       "4   /musc.repo/mri/7T.cmrr/July.2015/PS/presentati...           0       0  \n",
       "\n",
       "[4 rows x 29 columns]"
      ]
     },
     "execution_count": 5,
     "metadata": {},
     "output_type": "execute_result"
    }
   ],
   "source": [
    "data_db.iloc[training_runs] "
   ]
  },
  {
   "cell_type": "code",
   "execution_count": 6,
   "metadata": {
    "collapsed": false
   },
   "outputs": [
    {
     "data": {
      "text/html": [
       "<div style=\"max-height:1000px;max-width:1500px;overflow:auto;\">\n",
       "<table border=\"1\" class=\"dataframe\">\n",
       "  <thead>\n",
       "    <tr style=\"text-align: right;\">\n",
       "      <th></th>\n",
       "      <th>runID</th>\n",
       "      <th>date</th>\n",
       "      <th>subject</th>\n",
       "      <th>experiment</th>\n",
       "      <th>working_vol</th>\n",
       "      <th>brain_mask</th>\n",
       "      <th>sessionID</th>\n",
       "      <th>runType</th>\n",
       "      <th>design matrix</th>\n",
       "      <th>frame_file</th>\n",
       "      <th>...</th>\n",
       "      <th>vox_x</th>\n",
       "      <th>vox_y</th>\n",
       "      <th>vox_z</th>\n",
       "      <th>run_code_path</th>\n",
       "      <th>run_code_file</th>\n",
       "      <th>design_matrix_path</th>\n",
       "      <th>frameFilePath</th>\n",
       "      <th>picPath</th>\n",
       "      <th>siemensRef</th>\n",
       "      <th>padVol</th>\n",
       "    </tr>\n",
       "  </thead>\n",
       "  <tbody>\n",
       "    <tr>\n",
       "      <th>0</th>\n",
       "      <td> 0</td>\n",
       "      <td> 27/07/2015</td>\n",
       "      <td> s1055</td>\n",
       "      <td> match_nonmatch</td>\n",
       "      <td> /media/tnaselar/Data/July_2015_preproc/s1055/P...</td>\n",
       "      <td> /media/tnaselar/Data/July_2015_preproc/s1055/P...</td>\n",
       "      <td> 1</td>\n",
       "      <td> wedge</td>\n",
       "      <td> none</td>\n",
       "      <td> wedge_frame_file.txt</td>\n",
       "      <td>...</td>\n",
       "      <td> 0.8</td>\n",
       "      <td> 0.8</td>\n",
       "      <td> 0.8</td>\n",
       "      <td> /musc.repo/mri/7T.cmrr/July.2015/PS/presentation</td>\n",
       "      <td> run_experiment.py</td>\n",
       "      <td> none</td>\n",
       "      <td> /musc.repo/mri/7T.cmrr/July.2015/PS/presentati...</td>\n",
       "      <td> /musc.repo/mri/7T.cmrr/July.2015/PS/presentati...</td>\n",
       "      <td> 0</td>\n",
       "      <td> 0</td>\n",
       "    </tr>\n",
       "    <tr>\n",
       "      <th>2</th>\n",
       "      <td> 2</td>\n",
       "      <td> 27/07/2015</td>\n",
       "      <td> s1055</td>\n",
       "      <td> match_nonmatch</td>\n",
       "      <td> /media/tnaselar/Data/July_2015_preproc/s1055/P...</td>\n",
       "      <td> /media/tnaselar/Data/July_2015_preproc/s1055/P...</td>\n",
       "      <td> 1</td>\n",
       "      <td>   bar</td>\n",
       "      <td> none</td>\n",
       "      <td>   bar_frame_file.txt</td>\n",
       "      <td>...</td>\n",
       "      <td> 0.8</td>\n",
       "      <td> 0.8</td>\n",
       "      <td> 0.8</td>\n",
       "      <td> /musc.repo/mri/7T.cmrr/July.2015/PS/presentation</td>\n",
       "      <td> run_experiment.py</td>\n",
       "      <td> none</td>\n",
       "      <td> /musc.repo/mri/7T.cmrr/July.2015/PS/presentati...</td>\n",
       "      <td> /musc.repo/mri/7T.cmrr/July.2015/PS/presentati...</td>\n",
       "      <td> 0</td>\n",
       "      <td> 0</td>\n",
       "    </tr>\n",
       "  </tbody>\n",
       "</table>\n",
       "<p>2 rows × 29 columns</p>\n",
       "</div>"
      ],
      "text/plain": [
       "   runID        date subject      experiment  \\\n",
       "0      0  27/07/2015   s1055  match_nonmatch   \n",
       "2      2  27/07/2015   s1055  match_nonmatch   \n",
       "\n",
       "                                         working_vol  \\\n",
       "0  /media/tnaselar/Data/July_2015_preproc/s1055/P...   \n",
       "2  /media/tnaselar/Data/July_2015_preproc/s1055/P...   \n",
       "\n",
       "                                          brain_mask  sessionID runType  \\\n",
       "0  /media/tnaselar/Data/July_2015_preproc/s1055/P...          1   wedge   \n",
       "2  /media/tnaselar/Data/July_2015_preproc/s1055/P...          1     bar   \n",
       "\n",
       "  design matrix            frame_file          ...          vox_x  vox_y  \\\n",
       "0          none  wedge_frame_file.txt          ...            0.8    0.8   \n",
       "2          none    bar_frame_file.txt          ...            0.8    0.8   \n",
       "\n",
       "  vox_z                                     run_code_path      run_code_file  \\\n",
       "0   0.8  /musc.repo/mri/7T.cmrr/July.2015/PS/presentation  run_experiment.py   \n",
       "2   0.8  /musc.repo/mri/7T.cmrr/July.2015/PS/presentation  run_experiment.py   \n",
       "\n",
       "   design_matrix_path                                      frameFilePath  \\\n",
       "0                none  /musc.repo/mri/7T.cmrr/July.2015/PS/presentati...   \n",
       "2                none  /musc.repo/mri/7T.cmrr/July.2015/PS/presentati...   \n",
       "\n",
       "                                             picPath  siemensRef  padVol  \n",
       "0  /musc.repo/mri/7T.cmrr/July.2015/PS/presentati...           0       0  \n",
       "2  /musc.repo/mri/7T.cmrr/July.2015/PS/presentati...           0       0  \n",
       "\n",
       "[2 rows x 29 columns]"
      ]
     },
     "execution_count": 6,
     "metadata": {},
     "output_type": "execute_result"
    }
   ],
   "source": [
    "data_db.iloc[selection_runs]"
   ]
  },
  {
   "cell_type": "code",
   "execution_count": 7,
   "metadata": {
    "collapsed": false
   },
   "outputs": [
    {
     "data": {
      "text/html": [
       "<div style=\"max-height:1000px;max-width:1500px;overflow:auto;\">\n",
       "<table border=\"1\" class=\"dataframe\">\n",
       "  <thead>\n",
       "    <tr style=\"text-align: right;\">\n",
       "      <th></th>\n",
       "      <th>runID</th>\n",
       "      <th>date</th>\n",
       "      <th>subject</th>\n",
       "      <th>experiment</th>\n",
       "      <th>working_vol</th>\n",
       "      <th>brain_mask</th>\n",
       "      <th>sessionID</th>\n",
       "      <th>runType</th>\n",
       "      <th>design matrix</th>\n",
       "      <th>frame_file</th>\n",
       "      <th>...</th>\n",
       "      <th>vox_x</th>\n",
       "      <th>vox_y</th>\n",
       "      <th>vox_z</th>\n",
       "      <th>run_code_path</th>\n",
       "      <th>run_code_file</th>\n",
       "      <th>design_matrix_path</th>\n",
       "      <th>frameFilePath</th>\n",
       "      <th>picPath</th>\n",
       "      <th>siemensRef</th>\n",
       "      <th>padVol</th>\n",
       "    </tr>\n",
       "  </thead>\n",
       "  <tbody>\n",
       "    <tr>\n",
       "      <th>17</th>\n",
       "      <td> 17</td>\n",
       "      <td> 29/07/2015</td>\n",
       "      <td> s1055</td>\n",
       "      <td> match_nonmatch</td>\n",
       "      <td> /media/tnaselar/Data/July_2015_preproc/s1055/P...</td>\n",
       "      <td> /media/tnaselar/Data/July_2015_preproc/s1055/P...</td>\n",
       "      <td> 1</td>\n",
       "      <td> wedge</td>\n",
       "      <td> none</td>\n",
       "      <td> wedge_frame_file.txt</td>\n",
       "      <td>...</td>\n",
       "      <td> 0.8</td>\n",
       "      <td> 0.8</td>\n",
       "      <td> 0.8</td>\n",
       "      <td> /musc.repo/mri/7T.cmrr/July.2015/PS/presentation</td>\n",
       "      <td> run_experiment.py</td>\n",
       "      <td> none</td>\n",
       "      <td> /musc.repo/mri/7T.cmrr/July.2015/PS/presentati...</td>\n",
       "      <td> /musc.repo/mri/7T.cmrr/July.2015/PS/presentati...</td>\n",
       "      <td> 0</td>\n",
       "      <td> 0</td>\n",
       "    </tr>\n",
       "    <tr>\n",
       "      <th>14</th>\n",
       "      <td> 14</td>\n",
       "      <td> 27/07/2015</td>\n",
       "      <td> s1055</td>\n",
       "      <td> match_nonmatch</td>\n",
       "      <td> /media/tnaselar/Data/July_2015_preproc/s1055/P...</td>\n",
       "      <td> /media/tnaselar/Data/July_2015_preproc/s1055/P...</td>\n",
       "      <td> 1</td>\n",
       "      <td>   bar</td>\n",
       "      <td> none</td>\n",
       "      <td>   bar_frame_file.txt</td>\n",
       "      <td>...</td>\n",
       "      <td> 0.8</td>\n",
       "      <td> 0.8</td>\n",
       "      <td> 0.8</td>\n",
       "      <td> /musc.repo/mri/7T.cmrr/July.2015/PS/presentation</td>\n",
       "      <td> run_experiment.py</td>\n",
       "      <td> none</td>\n",
       "      <td> /musc.repo/mri/7T.cmrr/July.2015/PS/presentati...</td>\n",
       "      <td> /musc.repo/mri/7T.cmrr/July.2015/PS/presentati...</td>\n",
       "      <td> 0</td>\n",
       "      <td> 0</td>\n",
       "    </tr>\n",
       "  </tbody>\n",
       "</table>\n",
       "<p>2 rows × 29 columns</p>\n",
       "</div>"
      ],
      "text/plain": [
       "    runID        date subject      experiment  \\\n",
       "17     17  29/07/2015   s1055  match_nonmatch   \n",
       "14     14  27/07/2015   s1055  match_nonmatch   \n",
       "\n",
       "                                          working_vol  \\\n",
       "17  /media/tnaselar/Data/July_2015_preproc/s1055/P...   \n",
       "14  /media/tnaselar/Data/July_2015_preproc/s1055/P...   \n",
       "\n",
       "                                           brain_mask  sessionID runType  \\\n",
       "17  /media/tnaselar/Data/July_2015_preproc/s1055/P...          1   wedge   \n",
       "14  /media/tnaselar/Data/July_2015_preproc/s1055/P...          1     bar   \n",
       "\n",
       "   design matrix            frame_file          ...          vox_x  vox_y  \\\n",
       "17          none  wedge_frame_file.txt          ...            0.8    0.8   \n",
       "14          none    bar_frame_file.txt          ...            0.8    0.8   \n",
       "\n",
       "   vox_z                                     run_code_path      run_code_file  \\\n",
       "17   0.8  /musc.repo/mri/7T.cmrr/July.2015/PS/presentation  run_experiment.py   \n",
       "14   0.8  /musc.repo/mri/7T.cmrr/July.2015/PS/presentation  run_experiment.py   \n",
       "\n",
       "    design_matrix_path                                      frameFilePath  \\\n",
       "17                none  /musc.repo/mri/7T.cmrr/July.2015/PS/presentati...   \n",
       "14                none  /musc.repo/mri/7T.cmrr/July.2015/PS/presentati...   \n",
       "\n",
       "                                              picPath  siemensRef  padVol  \n",
       "17  /musc.repo/mri/7T.cmrr/July.2015/PS/presentati...           0       0  \n",
       "14  /musc.repo/mri/7T.cmrr/July.2015/PS/presentati...           0       0  \n",
       "\n",
       "[2 rows x 29 columns]"
      ]
     },
     "execution_count": 7,
     "metadata": {},
     "output_type": "execute_result"
    }
   ],
   "source": [
    "data_db.iloc[validation_runs]"
   ]
  },
  {
   "cell_type": "markdown",
   "metadata": {},
   "source": [
    "###Load neural data"
   ]
  },
  {
   "cell_type": "code",
   "execution_count": 8,
   "metadata": {
    "collapsed": false,
    "scrolled": true
   },
   "outputs": [
    {
     "name": "stdout",
     "output_type": "stream",
     "text": [
      "detrending run 0 with window_length: 101\n",
      "detrending run 1 with window_length: 101\n",
      "detrending run 2 with window_length: 101\n",
      "detrending run 3 with window_length: 101\n",
      "zscoring 0 thru 200\n",
      "zscoring 200 thru 400\n",
      "zscoring 400 thru 600\n",
      "zscoring 600 thru 800\n",
      "detrending run 0 with window_length: 101\n",
      "detrending run 1 with window_length: 101\n",
      "zscoring 0 thru 200\n",
      "zscoring 200 thru 400\n"
     ]
    }
   ],
   "source": [
    "training_vols = preproc.load_runs(data_db,training_runs)\n",
    "selection_vols = preproc.load_runs(data_db,selection_runs)\n",
    "# validation_vols = preproc.load_runs(data_db,validation_runs)"
   ]
  },
  {
   "cell_type": "markdown",
   "metadata": {},
   "source": [
    "###Load images\n",
    "We happen to know that for the 'wedge' and 'bar' runs, the framefiles are identical. So we don't need\n",
    "to all of them into memory. Instead, we load in one copy, and create a function that will be used to concatenate feature matrices when it's time to train the model."
   ]
  },
  {
   "cell_type": "code",
   "execution_count": 9,
   "metadata": {
    "collapsed": false
   },
   "outputs": [],
   "source": [
    "##some important units\n",
    "image_downsampling = .5 ##I choose this\n",
    "pixel_per_deg = 34.751*image_downsampling    ##I just know this  \n",
    "pixels_per_stimulus = int(768*image_downsampling) ##I just know this\n",
    "wedge_nvols = data_db.iloc[selection_runs[0]].nvols ##we happen to know what 0 and 1 mean\n",
    "bar_nvols = data_db.iloc[selection_runs[1]].nvols"
   ]
  },
  {
   "cell_type": "code",
   "execution_count": 10,
   "metadata": {
    "collapsed": false
   },
   "outputs": [],
   "source": [
    "wedge_stim_list = preproc.load_frame_file(data_db.iloc[selection_runs[0]]) \n",
    "bar_stim_list = preproc.load_frame_file(data_db.iloc[selection_runs[1]])\n",
    "pic_path = data_db.iloc[selection_runs[0]].picPath"
   ]
  },
  {
   "cell_type": "code",
   "execution_count": 11,
   "metadata": {
    "collapsed": false
   },
   "outputs": [
    {
     "name": "stdout",
     "output_type": "stream",
     "text": [
      "wedge images taking up 0.618 GB of RAM\n"
     ]
    }
   ],
   "source": [
    "x = map(lambda f: path.join(pic_path,f),wedge_stim_list)\n",
    "y = lambda img: np.array(Image.open(img).convert('L').resize((pixels_per_stimulus,)*2))\n",
    "\n",
    "wedge_imgs = np.array(map(y,x), ndmin=3)\n",
    "print 'wedge images taking up %0.3f GB of RAM' %(wedge_imgs.nbytes/1024./1024./1024.)"
   ]
  },
  {
   "cell_type": "code",
   "execution_count": 12,
   "metadata": {
    "collapsed": false
   },
   "outputs": [
    {
     "name": "stdout",
     "output_type": "stream",
     "text": [
      "bar images taking up 0.618 GB of RAM\n"
     ]
    }
   ],
   "source": [
    "bar_imgs = np.array(map(lambda img: np.array(Image.open(img).convert('L').resize((pixels_per_stimulus,)*2)),\n",
    "                          map(lambda f: path.join(pic_path,f),bar_stim_list)),\n",
    "                    ndmin=3)\n",
    "print 'bar images taking up %0.3f GB of RAM' %(bar_imgs.nbytes/1024./1024./1024.)"
   ]
  },
  {
   "cell_type": "code",
   "execution_count": 13,
   "metadata": {
    "collapsed": false
   },
   "outputs": [
    {
     "data": {
      "text/plain": [
       "<matplotlib.image.AxesImage at 0x7f24dcf4f290>"
      ]
     },
     "execution_count": 13,
     "metadata": {},
     "output_type": "execute_result"
    },
    {
     "data": {
      "image/png": "[encoded data removed]",
      "text/plain": [
       "<matplotlib.figure.Figure at 0x7f24dd0f2890>"
      ]
     },
     "metadata": {},
     "output_type": "display_data"
    }
   ],
   "source": [
    "plt.figure\n",
    "plt.subplot(1,2,1)\n",
    "plt.imshow(wedge_imgs[500,:,:],cmap=cm.gray)\n",
    "plt.subplot(1,2,2)\n",
    "plt.imshow(bar_imgs[500,:,:],cmap=cm.gray)"
   ]
  },
  {
   "cell_type": "markdown",
   "metadata": {},
   "source": [
    "###Construct features"
   ]
  },
  {
   "cell_type": "markdown",
   "metadata": {},
   "source": [
    "Specify the set of ripple filters"
   ]
  },
  {
   "cell_type": "code",
   "execution_count": 15,
   "metadata": {
    "collapsed": false
   },
   "outputs": [],
   "source": [
    "\n",
    "##preferences\n",
    "min_cyc_deg = 0.010008\n",
    "max_cyc_deg = 2.900006\n",
    "min_kernel_size = 1.    ##deg\n",
    "max_kernel_size = 6.    ##deg\n",
    "num_freq_levels = 8\n",
    "num_size_levels = 8\n",
    "kernel_spacing = 1\n",
    "boundary_condition = 1\n",
    "\n",
    "##---frequencies\n",
    "##cyc/deg\n",
    "freq_df = pd.DataFrame(np.logspace(np.log10(min_cyc_deg),np.log10(max_cyc_deg),num=num_freq_levels,endpoint=True),\n",
    "                       columns=['cyc/deg'])\n",
    "##cyc/pix\n",
    "freq_df['cyc/pix'] = freq_df['cyc/deg'].apply(lambda x: x/pixel_per_deg)\n",
    "##cyc/image\n",
    "freq_df['cyc/image'] = freq_df['cyc/pix'].apply(lambda x: x*pixels_per_stimulus)\n",
    "##pix/cyc -- check to make sure greater than 6, as per Curtis Baker\n",
    "freq_df['pix/cyc'] = freq_df['cyc/pix'].apply(lambda x: 1/x)\n",
    "\n",
    "##---kernel sizes\n",
    "##deg\n",
    "size_df = pd.DataFrame(np.linspace(min_kernel_size, max_kernel_size,num=num_size_levels,endpoint=True),\n",
    "                       columns = ['deg.'])\n",
    "##pix\n",
    "size_df['pix'] = size_df['deg.'].apply(lambda x: x*pixel_per_deg)\n"
   ]
  },
  {
   "cell_type": "markdown",
   "metadata": {},
   "source": [
    "Spatial frequencies in various units"
   ]
  },
  {
   "cell_type": "code",
   "execution_count": 16,
   "metadata": {
    "collapsed": false
   },
   "outputs": [
    {
     "data": {
      "text/html": [
       "<div style=\"max-height:1000px;max-width:1500px;overflow:auto;\">\n",
       "<table border=\"1\" class=\"dataframe\">\n",
       "  <thead>\n",
       "    <tr style=\"text-align: right;\">\n",
       "      <th></th>\n",
       "      <th>cyc/deg</th>\n",
       "      <th>cyc/pix</th>\n",
       "      <th>cyc/image</th>\n",
       "      <th>pix/cyc</th>\n",
       "    </tr>\n",
       "  </thead>\n",
       "  <tbody>\n",
       "    <tr>\n",
       "      <th>0</th>\n",
       "      <td> 0.010008</td>\n",
       "      <td> 0.000576</td>\n",
       "      <td>  0.221178</td>\n",
       "      <td> 1736.161071</td>\n",
       "    </tr>\n",
       "    <tr>\n",
       "      <th>1</th>\n",
       "      <td> 0.022494</td>\n",
       "      <td> 0.001295</td>\n",
       "      <td>  0.497122</td>\n",
       "      <td>  772.446406</td>\n",
       "    </tr>\n",
       "    <tr>\n",
       "      <th>2</th>\n",
       "      <td> 0.050558</td>\n",
       "      <td> 0.002910</td>\n",
       "      <td>  1.117338</td>\n",
       "      <td>  343.674018</td>\n",
       "    </tr>\n",
       "    <tr>\n",
       "      <th>3</th>\n",
       "      <td> 0.113635</td>\n",
       "      <td> 0.006540</td>\n",
       "      <td>  2.511344</td>\n",
       "      <td>  152.906181</td>\n",
       "    </tr>\n",
       "    <tr>\n",
       "      <th>4</th>\n",
       "      <td> 0.255408</td>\n",
       "      <td> 0.014699</td>\n",
       "      <td>  5.644531</td>\n",
       "      <td>   68.030457</td>\n",
       "    </tr>\n",
       "    <tr>\n",
       "      <th>5</th>\n",
       "      <td> 0.574058</td>\n",
       "      <td> 0.033038</td>\n",
       "      <td> 12.686724</td>\n",
       "      <td>   30.267861</td>\n",
       "    </tr>\n",
       "    <tr>\n",
       "      <th>6</th>\n",
       "      <td> 1.290260</td>\n",
       "      <td> 0.074257</td>\n",
       "      <td> 28.514854</td>\n",
       "      <td>   13.466665</td>\n",
       "    </tr>\n",
       "    <tr>\n",
       "      <th>7</th>\n",
       "      <td> 2.900006</td>\n",
       "      <td> 0.166902</td>\n",
       "      <td> 64.090375</td>\n",
       "      <td>    5.991539</td>\n",
       "    </tr>\n",
       "  </tbody>\n",
       "</table>\n",
       "</div>"
      ],
      "text/plain": [
       "    cyc/deg   cyc/pix  cyc/image      pix/cyc\n",
       "0  0.010008  0.000576   0.221178  1736.161071\n",
       "1  0.022494  0.001295   0.497122   772.446406\n",
       "2  0.050558  0.002910   1.117338   343.674018\n",
       "3  0.113635  0.006540   2.511344   152.906181\n",
       "4  0.255408  0.014699   5.644531    68.030457\n",
       "5  0.574058  0.033038  12.686724    30.267861\n",
       "6  1.290260  0.074257  28.514854    13.466665\n",
       "7  2.900006  0.166902  64.090375     5.991539"
      ]
     },
     "execution_count": 16,
     "metadata": {},
     "output_type": "execute_result"
    }
   ],
   "source": [
    "freq_df"
   ]
  },
  {
   "cell_type": "markdown",
   "metadata": {},
   "source": [
    "Kernel sizes in various units"
   ]
  },
  {
   "cell_type": "code",
   "execution_count": 17,
   "metadata": {
    "collapsed": false
   },
   "outputs": [
    {
     "data": {
      "text/html": [
       "<div style=\"max-height:1000px;max-width:1500px;overflow:auto;\">\n",
       "<table border=\"1\" class=\"dataframe\">\n",
       "  <thead>\n",
       "    <tr style=\"text-align: right;\">\n",
       "      <th></th>\n",
       "      <th>deg.</th>\n",
       "      <th>pix</th>\n",
       "    </tr>\n",
       "  </thead>\n",
       "  <tbody>\n",
       "    <tr>\n",
       "      <th>0</th>\n",
       "      <td> 1.000000</td>\n",
       "      <td>  17.375500</td>\n",
       "    </tr>\n",
       "    <tr>\n",
       "      <th>1</th>\n",
       "      <td> 1.714286</td>\n",
       "      <td>  29.786571</td>\n",
       "    </tr>\n",
       "    <tr>\n",
       "      <th>2</th>\n",
       "      <td> 2.428571</td>\n",
       "      <td>  42.197643</td>\n",
       "    </tr>\n",
       "    <tr>\n",
       "      <th>3</th>\n",
       "      <td> 3.142857</td>\n",
       "      <td>  54.608714</td>\n",
       "    </tr>\n",
       "    <tr>\n",
       "      <th>4</th>\n",
       "      <td> 3.857143</td>\n",
       "      <td>  67.019786</td>\n",
       "    </tr>\n",
       "    <tr>\n",
       "      <th>5</th>\n",
       "      <td> 4.571429</td>\n",
       "      <td>  79.430857</td>\n",
       "    </tr>\n",
       "    <tr>\n",
       "      <th>6</th>\n",
       "      <td> 5.285714</td>\n",
       "      <td>  91.841929</td>\n",
       "    </tr>\n",
       "    <tr>\n",
       "      <th>7</th>\n",
       "      <td> 6.000000</td>\n",
       "      <td> 104.253000</td>\n",
       "    </tr>\n",
       "  </tbody>\n",
       "</table>\n",
       "</div>"
      ],
      "text/plain": [
       "       deg.         pix\n",
       "0  1.000000   17.375500\n",
       "1  1.714286   29.786571\n",
       "2  2.428571   42.197643\n",
       "3  3.142857   54.608714\n",
       "4  3.857143   67.019786\n",
       "5  4.571429   79.430857\n",
       "6  5.285714   91.841929\n",
       "7  6.000000  104.253000"
      ]
     },
     "execution_count": 17,
     "metadata": {},
     "output_type": "execute_result"
    }
   ],
   "source": [
    "size_df"
   ]
  },
  {
   "cell_type": "markdown",
   "metadata": {},
   "source": [
    "###Fit the ripple model\n",
    "Leave-one-out validation, at least 10 times, making sure each run type gets left out a (roughly) equal number of times."
   ]
  },
  {
   "cell_type": "markdown",
   "metadata": {},
   "source": [
    "Loop over size/frequency/postions, training/testing at each."
   ]
  },
  {
   "cell_type": "code",
   "execution_count": 18,
   "metadata": {
    "collapsed": true
   },
   "outputs": [],
   "source": [
    "hrf_length = 12 ##20 s should do it.\n",
    "alpha = 1 ## I dunno."
   ]
  },
  {
   "cell_type": "code",
   "execution_count": 19,
   "metadata": {
    "collapsed": true
   },
   "outputs": [],
   "source": [
    "model_grid = pd.DataFrame(index = size_df['pix'],columns=freq_df['cyc/image'])"
   ]
  },
  {
   "cell_type": "code",
   "execution_count": null,
   "metadata": {
    "collapsed": true
   },
   "outputs": [],
   "source": [
    "model_grid = pd.DataFrame(index = size_df['pix'],columns=freq_df['cyc/image'])\n",
    "\n",
    "for kernel_size in model_grid.index:\n",
    "    for freq in model_grid.columns:\n",
    "        ##construct filters\n",
    "        filters = construct_kernel_set(freq,kernel_size,\n",
    "                                       pixels_per_stimulus,kernel_spacing,boundary_condition=boundary_condition)\n",
    "        num_filters = filters.shape[0]\n",
    "        print '===========================model (%0.2f, %0.2f) with %d postions' %(kernel_size,freq,num_filters)\n",
    "        ##convolve with wedge/bar images\n",
    "        wedge_features = np.abs(np.einsum('kij,lij->kl', wedge_imgs, filters))\n",
    "        bar_features = np.abs(np.einsum('kij,lij->kl', bar_imgs, filters))\n",
    " \n",
    "       ##train at each position\n",
    "        for p in range(num_filters):\n",
    "            print '=====position: %d' %(p)\n",
    "            print 'preparing features...'\n",
    "            downsampled_wedge_timeseries = preproc.nearest_neighbor_downsampling(wedge_features[:,p],wedge_nvols)\n",
    "            downsampled_bar_timeseries = preproc.nearest_neighbor_downsampling(bar_features[:,p],bar_nvols)\n",
    "  "
   ]
  },
  {
   "cell_type": "code",
   "execution_count": 40,
   "metadata": {
    "collapsed": false
   },
   "outputs": [
    {
     "name": "stdout",
     "output_type": "stream",
     "text": [
      "Automatic pdb calling has been turned ON\n"
     ]
    }
   ],
   "source": [
    "pdb"
   ]
  },
  {
   "cell_type": "code",
   "execution_count": 59,
   "metadata": {
    "collapsed": true
   },
   "outputs": [],
   "source": [
    "def concat_wedge_bar_matrices(wedge_feature_matrix=None,bar_feature_matrix=None,run_ids=None):\n",
    "    total_rows = data_db['nvols'].iloc[run_ids].sum(axis=0)\n",
    "    total_cols = wedge_feature_matrix.shape[1]\n",
    "    nVols = wedge_feature_matrix.shape[0]\n",
    "    final_feature_matrix = np.zeros((total_rows,total_cols))\n",
    "    count = 0\n",
    "    for row in data_db.iloc[run_ids].iterrows():  ##apparently this gives you a tuple with the index first\n",
    "        run_type = row[1].runType\n",
    "        if run_type == 'bar':\n",
    "            cur_mat = bar_feature_matrix\n",
    "        elif run_type == 'wedge':\n",
    "            cur_mat = wedge_feature_matrix\n",
    "        else:\n",
    "            raise Exception('run type should only be bar or wedge. something is wrong.')\n",
    "        final_feature_matrix[count:count+nVols,:] = cur_mat\n",
    "        count += nVols\n",
    "    return final_feature_matrix"
   ]
  },
  {
   "cell_type": "code",
   "execution_count": 58,
   "metadata": {
    "collapsed": false
   },
   "outputs": [
    {
     "data": {
      "text/plain": [
       "800"
      ]
     },
     "execution_count": 58,
     "metadata": {},
     "output_type": "execute_result"
    }
   ],
   "source": [
    "data_db['nvols'].iloc[training_runs].sum(axis=0)"
   ]
  },
  {
   "cell_type": "code",
   "execution_count": null,
   "metadata": {
    "collapsed": true
   },
   "outputs": [],
   "source": [
    "            wedge_feature_matrix = preproc.construct_feature_matrix(np.atleast_2d(downsampled_wedge_timeseries).T,\n",
    "                                                                    hrf_length=hrf_length)\n",
    "            bar_feature_matrix = preproc.construct_feature_matrix(np.atleast_2d(downsampled_bar_timeseries).T,\n",
    "                                                                    hrf_length=hrf_length)"
   ]
  },
  {
   "cell_type": "code",
   "execution_count": 55,
   "metadata": {
    "collapsed": false
   },
   "outputs": [
    {
     "name": "stdout",
     "output_type": "stream",
     "text": [
      "(200, 12)\n",
      "(200, 12)\n"
     ]
    }
   ],
   "source": [
    "print wedge_feature_matrix.shape\n",
    "print bar_feature_matrix.shape"
   ]
  },
  {
   "cell_type": "code",
   "execution_count": 57,
   "metadata": {
    "collapsed": false
   },
   "outputs": [
    {
     "data": {
      "text/plain": [
       "4"
      ]
     },
     "execution_count": 57,
     "metadata": {},
     "output_type": "execute_result"
    }
   ],
   "source": [
    "len(training_runs)"
   ]
  },
  {
   "cell_type": "code",
   "execution_count": 60,
   "metadata": {
    "collapsed": true
   },
   "outputs": [],
   "source": [
    "            training_matrix = concat_wedge_bar_matrices(wedge_feature_matrix=wedge_feature_matrix,\n",
    "                                                             bar_feature_matrix=bar_feature_matrix,\n",
    "                                                             run_ids = training_runs)"
   ]
  },
  {
   "cell_type": "code",
   "execution_count": 61,
   "metadata": {
    "collapsed": false
   },
   "outputs": [
    {
     "data": {
      "text/plain": [
       "(800, 12)"
      ]
     },
     "execution_count": 61,
     "metadata": {},
     "output_type": "execute_result"
    }
   ],
   "source": [
    "training_matrix.shape"
   ]
  },
  {
   "cell_type": "code",
   "execution_count": 114,
   "metadata": {
    "collapsed": true
   },
   "outputs": [
    {
     "name": "stdout",
     "output_type": "stream",
     "text": [
      "fitting model...\n"
     ]
    },
    {
     "ename": "ValueError",
     "evalue": "array must not contain infs or NaNs",
     "output_type": "error",
     "traceback": [
      "\u001b[1;31m---------------------------------------------------------------------------\u001b[0m",
      "\u001b[1;31mValueError\u001b[0m                                Traceback (most recent call last)",
      "\u001b[1;32m<ipython-input-114-2f2dd31107b3>\u001b[0m in \u001b[0;36m<module>\u001b[1;34m()\u001b[0m\n\u001b[0;32m      1\u001b[0m \u001b[1;32mprint\u001b[0m \u001b[1;34m'fitting model...'\u001b[0m\u001b[1;33m\u001b[0m\u001b[0m\n\u001b[1;32m----> 2\u001b[1;33m \u001b[0mmodel_grid\u001b[0m\u001b[1;33m.\u001b[0m\u001b[0mix\u001b[0m\u001b[1;33m[\u001b[0m\u001b[0mkernel_size\u001b[0m\u001b[1;33m,\u001b[0m\u001b[0mfreq\u001b[0m\u001b[1;33m]\u001b[0m \u001b[1;33m=\u001b[0m \u001b[0mlinear_model\u001b[0m\u001b[1;33m.\u001b[0m\u001b[0mRidge\u001b[0m\u001b[1;33m(\u001b[0m\u001b[0malpha\u001b[0m\u001b[1;33m=\u001b[0m\u001b[0malpha\u001b[0m\u001b[1;33m,\u001b[0m\u001b[0mnormalize\u001b[0m\u001b[1;33m=\u001b[0m\u001b[0mTrue\u001b[0m\u001b[1;33m)\u001b[0m\u001b[1;33m.\u001b[0m\u001b[0mfit\u001b[0m\u001b[1;33m(\u001b[0m\u001b[0mtraining_matrix\u001b[0m\u001b[1;33m,\u001b[0m\u001b[0mfoo\u001b[0m\u001b[1;33m[\u001b[0m\u001b[1;33m:\u001b[0m\u001b[1;33m,\u001b[0m\u001b[1;36m0\u001b[0m\u001b[1;33m]\u001b[0m\u001b[1;33m)\u001b[0m\u001b[1;33m\u001b[0m\u001b[0m\n\u001b[0m\u001b[0;32m      3\u001b[0m \u001b[1;31m#         for feat in selection_features:\u001b[0m\u001b[1;33m\u001b[0m\u001b[1;33m\u001b[0m\u001b[0m\n\u001b[0;32m      4\u001b[0m \u001b[1;31m#             downsample_\u001b[0m\u001b[1;33m\u001b[0m\u001b[1;33m\u001b[0m\u001b[0m\n\u001b[0;32m      5\u001b[0m \u001b[1;31m#             selection_matrix_\u001b[0m\u001b[1;33m\u001b[0m\u001b[1;33m\u001b[0m\u001b[0m\n",
      "\u001b[1;32m/home/tnaselar/anaconda/lib/python2.7/site-packages/sklearn/linear_model/ridge.pyc\u001b[0m in \u001b[0;36mfit\u001b[1;34m(self, X, y, sample_weight)\u001b[0m\n\u001b[0;32m    485\u001b[0m         \u001b[0mself\u001b[0m \u001b[1;33m:\u001b[0m \u001b[0mreturns\u001b[0m \u001b[0man\u001b[0m \u001b[0minstance\u001b[0m \u001b[0mof\u001b[0m \u001b[0mself\u001b[0m\u001b[1;33m.\u001b[0m\u001b[1;33m\u001b[0m\u001b[0m\n\u001b[0;32m    486\u001b[0m         \"\"\"\n\u001b[1;32m--> 487\u001b[1;33m         \u001b[1;32mreturn\u001b[0m \u001b[0msuper\u001b[0m\u001b[1;33m(\u001b[0m\u001b[0mRidge\u001b[0m\u001b[1;33m,\u001b[0m \u001b[0mself\u001b[0m\u001b[1;33m)\u001b[0m\u001b[1;33m.\u001b[0m\u001b[0mfit\u001b[0m\u001b[1;33m(\u001b[0m\u001b[0mX\u001b[0m\u001b[1;33m,\u001b[0m \u001b[0my\u001b[0m\u001b[1;33m,\u001b[0m \u001b[0msample_weight\u001b[0m\u001b[1;33m=\u001b[0m\u001b[0msample_weight\u001b[0m\u001b[1;33m)\u001b[0m\u001b[1;33m\u001b[0m\u001b[0m\n\u001b[0m\u001b[0;32m    488\u001b[0m \u001b[1;33m\u001b[0m\u001b[0m\n\u001b[0;32m    489\u001b[0m \u001b[1;33m\u001b[0m\u001b[0m\n",
      "\u001b[1;32m/home/tnaselar/anaconda/lib/python2.7/site-packages/sklearn/linear_model/ridge.pyc\u001b[0m in \u001b[0;36mfit\u001b[1;34m(self, X, y, sample_weight)\u001b[0m\n\u001b[0;32m    374\u001b[0m                                       \u001b[0mmax_iter\u001b[0m\u001b[1;33m=\u001b[0m\u001b[0mself\u001b[0m\u001b[1;33m.\u001b[0m\u001b[0mmax_iter\u001b[0m\u001b[1;33m,\u001b[0m\u001b[1;33m\u001b[0m\u001b[0m\n\u001b[0;32m    375\u001b[0m                                       \u001b[0mtol\u001b[0m\u001b[1;33m=\u001b[0m\u001b[0mself\u001b[0m\u001b[1;33m.\u001b[0m\u001b[0mtol\u001b[0m\u001b[1;33m,\u001b[0m\u001b[1;33m\u001b[0m\u001b[0m\n\u001b[1;32m--> 376\u001b[1;33m                                       solver=solver)\n\u001b[0m\u001b[0;32m    377\u001b[0m         \u001b[0mself\u001b[0m\u001b[1;33m.\u001b[0m\u001b[0m_set_intercept\u001b[0m\u001b[1;33m(\u001b[0m\u001b[0mX_mean\u001b[0m\u001b[1;33m,\u001b[0m \u001b[0my_mean\u001b[0m\u001b[1;33m,\u001b[0m \u001b[0mX_std\u001b[0m\u001b[1;33m)\u001b[0m\u001b[1;33m\u001b[0m\u001b[0m\n\u001b[0;32m    378\u001b[0m         \u001b[1;32mreturn\u001b[0m \u001b[0mself\u001b[0m\u001b[1;33m\u001b[0m\u001b[0m\n",
      "\u001b[1;32m/home/tnaselar/anaconda/lib/python2.7/site-packages/sklearn/linear_model/ridge.pyc\u001b[0m in \u001b[0;36mridge_regression\u001b[1;34m(X, y, alpha, sample_weight, solver, max_iter, tol)\u001b[0m\n\u001b[0;32m    327\u001b[0m         \u001b[1;32melse\u001b[0m\u001b[1;33m:\u001b[0m\u001b[1;33m\u001b[0m\u001b[0m\n\u001b[0;32m    328\u001b[0m             \u001b[1;32mtry\u001b[0m\u001b[1;33m:\u001b[0m\u001b[1;33m\u001b[0m\u001b[0m\n\u001b[1;32m--> 329\u001b[1;33m                 \u001b[0mcoef\u001b[0m \u001b[1;33m=\u001b[0m \u001b[0m_solve_cholesky\u001b[0m\u001b[1;33m(\u001b[0m\u001b[0mX\u001b[0m\u001b[1;33m,\u001b[0m \u001b[0my\u001b[0m\u001b[1;33m,\u001b[0m \u001b[0malpha\u001b[0m\u001b[1;33m,\u001b[0m \u001b[0msample_weight\u001b[0m\u001b[1;33m)\u001b[0m\u001b[1;33m\u001b[0m\u001b[0m\n\u001b[0m\u001b[0;32m    330\u001b[0m             \u001b[1;32mexcept\u001b[0m \u001b[0mlinalg\u001b[0m\u001b[1;33m.\u001b[0m\u001b[0mLinAlgError\u001b[0m\u001b[1;33m:\u001b[0m\u001b[1;33m\u001b[0m\u001b[0m\n\u001b[0;32m    331\u001b[0m                 \u001b[1;31m# use SVD solver if matrix is singular\u001b[0m\u001b[1;33m\u001b[0m\u001b[1;33m\u001b[0m\u001b[0m\n",
      "\u001b[1;32m/home/tnaselar/anaconda/lib/python2.7/site-packages/sklearn/linear_model/ridge.pyc\u001b[0m in \u001b[0;36m_solve_cholesky\u001b[1;34m(X, y, alpha, sample_weight)\u001b[0m\n\u001b[0;32m    109\u001b[0m         \u001b[0mA\u001b[0m\u001b[1;33m.\u001b[0m\u001b[0mflat\u001b[0m\u001b[1;33m[\u001b[0m\u001b[1;33m:\u001b[0m\u001b[1;33m:\u001b[0m\u001b[0mn_features\u001b[0m \u001b[1;33m+\u001b[0m \u001b[1;36m1\u001b[0m\u001b[1;33m]\u001b[0m \u001b[1;33m+=\u001b[0m \u001b[0malpha\u001b[0m\u001b[1;33m[\u001b[0m\u001b[1;36m0\u001b[0m\u001b[1;33m]\u001b[0m\u001b[1;33m\u001b[0m\u001b[0m\n\u001b[0;32m    110\u001b[0m         return linalg.solve(A, Xy, sym_pos=True,\n\u001b[1;32m--> 111\u001b[1;33m                             overwrite_a=True).T\n\u001b[0m\u001b[0;32m    112\u001b[0m     \u001b[1;32melse\u001b[0m\u001b[1;33m:\u001b[0m\u001b[1;33m\u001b[0m\u001b[0m\n\u001b[0;32m    113\u001b[0m         \u001b[0mcoefs\u001b[0m \u001b[1;33m=\u001b[0m \u001b[0mnp\u001b[0m\u001b[1;33m.\u001b[0m\u001b[0mempty\u001b[0m\u001b[1;33m(\u001b[0m\u001b[1;33m[\u001b[0m\u001b[0mn_targets\u001b[0m\u001b[1;33m,\u001b[0m \u001b[0mn_features\u001b[0m\u001b[1;33m]\u001b[0m\u001b[1;33m)\u001b[0m\u001b[1;33m\u001b[0m\u001b[0m\n",
      "\u001b[1;32m/home/tnaselar/anaconda/lib/python2.7/site-packages/scipy/linalg/basic.pyc\u001b[0m in \u001b[0;36msolve\u001b[1;34m(a, b, sym_pos, lower, overwrite_a, overwrite_b, debug, check_finite)\u001b[0m\n\u001b[0;32m     72\u001b[0m     \"\"\"\n\u001b[0;32m     73\u001b[0m     \u001b[1;32mif\u001b[0m \u001b[0mcheck_finite\u001b[0m\u001b[1;33m:\u001b[0m\u001b[1;33m\u001b[0m\u001b[0m\n\u001b[1;32m---> 74\u001b[1;33m         \u001b[0ma1\u001b[0m\u001b[1;33m,\u001b[0m \u001b[0mb1\u001b[0m \u001b[1;33m=\u001b[0m \u001b[0mmap\u001b[0m\u001b[1;33m(\u001b[0m\u001b[0mnp\u001b[0m\u001b[1;33m.\u001b[0m\u001b[0masarray_chkfinite\u001b[0m\u001b[1;33m,\u001b[0m\u001b[1;33m(\u001b[0m\u001b[0ma\u001b[0m\u001b[1;33m,\u001b[0m\u001b[0mb\u001b[0m\u001b[1;33m)\u001b[0m\u001b[1;33m)\u001b[0m\u001b[1;33m\u001b[0m\u001b[0m\n\u001b[0m\u001b[0;32m     75\u001b[0m     \u001b[1;32melse\u001b[0m\u001b[1;33m:\u001b[0m\u001b[1;33m\u001b[0m\u001b[0m\n\u001b[0;32m     76\u001b[0m         \u001b[0ma1\u001b[0m\u001b[1;33m,\u001b[0m \u001b[0mb1\u001b[0m \u001b[1;33m=\u001b[0m \u001b[0mmap\u001b[0m\u001b[1;33m(\u001b[0m\u001b[0mnp\u001b[0m\u001b[1;33m.\u001b[0m\u001b[0masarray\u001b[0m\u001b[1;33m,\u001b[0m \u001b[1;33m(\u001b[0m\u001b[0ma\u001b[0m\u001b[1;33m,\u001b[0m\u001b[0mb\u001b[0m\u001b[1;33m)\u001b[0m\u001b[1;33m)\u001b[0m\u001b[1;33m\u001b[0m\u001b[0m\n",
      "\u001b[1;32m/home/tnaselar/anaconda/lib/python2.7/site-packages/numpy/lib/function_base.pyc\u001b[0m in \u001b[0;36masarray_chkfinite\u001b[1;34m(a, dtype, order)\u001b[0m\n\u001b[0;32m    611\u001b[0m     \u001b[1;32mif\u001b[0m \u001b[0ma\u001b[0m\u001b[1;33m.\u001b[0m\u001b[0mdtype\u001b[0m\u001b[1;33m.\u001b[0m\u001b[0mchar\u001b[0m \u001b[1;32min\u001b[0m \u001b[0mtypecodes\u001b[0m\u001b[1;33m[\u001b[0m\u001b[1;34m'AllFloat'\u001b[0m\u001b[1;33m]\u001b[0m \u001b[1;32mand\u001b[0m \u001b[1;32mnot\u001b[0m \u001b[0mnp\u001b[0m\u001b[1;33m.\u001b[0m\u001b[0misfinite\u001b[0m\u001b[1;33m(\u001b[0m\u001b[0ma\u001b[0m\u001b[1;33m)\u001b[0m\u001b[1;33m.\u001b[0m\u001b[0mall\u001b[0m\u001b[1;33m(\u001b[0m\u001b[1;33m)\u001b[0m\u001b[1;33m:\u001b[0m\u001b[1;33m\u001b[0m\u001b[0m\n\u001b[0;32m    612\u001b[0m         raise ValueError(\n\u001b[1;32m--> 613\u001b[1;33m             \"array must not contain infs or NaNs\")\n\u001b[0m\u001b[0;32m    614\u001b[0m     \u001b[1;32mreturn\u001b[0m \u001b[0ma\u001b[0m\u001b[1;33m\u001b[0m\u001b[0m\n\u001b[0;32m    615\u001b[0m \u001b[1;33m\u001b[0m\u001b[0m\n",
      "\u001b[1;31mValueError\u001b[0m: array must not contain infs or NaNs"
     ]
    },
    {
     "name": "stdout",
     "output_type": "stream",
     "text": [
      "> \u001b[1;32m/home/tnaselar/anaconda/lib/python2.7/site-packages/numpy/lib/function_base.py\u001b[0m(613)\u001b[0;36masarray_chkfinite\u001b[1;34m()\u001b[0m\n",
      "\u001b[1;32m    612 \u001b[1;33m        raise ValueError(\n",
      "\u001b[0m\u001b[1;32m--> 613 \u001b[1;33m            \"array must not contain infs or NaNs\")\n",
      "\u001b[0m\u001b[1;32m    614 \u001b[1;33m    \u001b[1;32mreturn\u001b[0m \u001b[0ma\u001b[0m\u001b[1;33m\u001b[0m\u001b[0m\n",
      "\u001b[0m\n",
      "ipdb> q\n"
     ]
    }
   ],
   "source": [
    "            print 'fitting model...'\n",
    "            model_grid.ix[kernel_size,freq] = linear_model.Ridge(alpha=alpha,normalize=True).fit(training_matrix,foo[:,0])\n",
    "#         for feat in selection_features:\n",
    "#             downsample_\n",
    "#             selection_matrix_\n",
    "#             predictions_\n",
    "#             correlations_\n",
    "                "
   ]
  },
  {
   "cell_type": "code",
   "execution_count": 120,
   "metadata": {
    "collapsed": false
   },
   "outputs": [
    {
     "data": {
      "text/plain": [
       "(800,)"
      ]
     },
     "execution_count": 120,
     "metadata": {},
     "output_type": "execute_result"
    }
   ],
   "source": []
  },
  {
   "cell_type": "code",
   "execution_count": 110,
   "metadata": {
    "collapsed": false
   },
   "outputs": [],
   "source": [
    "baz.fit"
   ]
  },
  {
   "cell_type": "code",
   "execution_count": 111,
   "metadata": {
    "collapsed": false,
    "scrolled": true
   },
   "outputs": [],
   "source": [
    "foo = training_vols.get_data().reshape((160**2*66,800)).T"
   ]
  },
  {
   "cell_type": "code",
   "execution_count": 112,
   "metadata": {
    "collapsed": false
   },
   "outputs": [
    {
     "data": {
      "text/plain": [
       "(800, 1689600)"
      ]
     },
     "execution_count": 112,
     "metadata": {},
     "output_type": "execute_result"
    }
   ],
   "source": [
    "foo.shape"
   ]
  },
  {
   "cell_type": "code",
   "execution_count": 105,
   "metadata": {
    "collapsed": false
   },
   "outputs": [],
   "source": [
    "foo = 1"
   ]
  },
  {
   "cell_type": "markdown",
   "metadata": {},
   "source": [
    "For each voxel, choose the best ripple filter"
   ]
  },
  {
   "cell_type": "code",
   "execution_count": null,
   "metadata": {
    "collapsed": true
   },
   "outputs": [],
   "source": []
  },
  {
   "cell_type": "markdown",
   "metadata": {},
   "source": [
    "###Model validation: prediction accuracy"
   ]
  },
  {
   "cell_type": "code",
   "execution_count": null,
   "metadata": {
    "collapsed": true
   },
   "outputs": [],
   "source": [
    "Load up the validation images (art)"
   ]
  },
  {
   "cell_type": "code",
   "execution_count": null,
   "metadata": {
    "collapsed": true
   },
   "outputs": [],
   "source": [
    "Visualize the prediction accuracies"
   ]
  },
  {
   "cell_type": "markdown",
   "metadata": {},
   "source": [
    "###Model validation: inspect temporal kernels"
   ]
  },
  {
   "cell_type": "code",
   "execution_count": null,
   "metadata": {
    "collapsed": true
   },
   "outputs": [],
   "source": []
  },
  {
   "cell_type": "markdown",
   "metadata": {},
   "source": [
    "###Model validation: size vs. eccentricity"
   ]
  },
  {
   "cell_type": "code",
   "execution_count": null,
   "metadata": {
    "collapsed": true
   },
   "outputs": [],
   "source": []
  },
  {
   "cell_type": "markdown",
   "metadata": {},
   "source": [
    "###Model validation: projective imaging"
   ]
  },
  {
   "cell_type": "code",
   "execution_count": null,
   "metadata": {
    "collapsed": true
   },
   "outputs": [],
   "source": [
    "##bars\n",
    "##wedges\n"
   ]
  }
 ],
 "metadata": {
  "kernelspec": {
   "display_name": "Python 2",
   "language": "python",
   "name": "python2"
  },
  "language_info": {
   "codemirror_mode": {
    "name": "ipython",
    "version": 2
   },
   "file_extension": ".py",
   "mimetype": "text/x-python",
   "name": "python",
   "nbconvert_exporter": "python",
   "pygments_lexer": "ipython2",
   "version": "2.7.10"
  }
 },
 "nbformat": 4,
 "nbformat_minor": 0
}
